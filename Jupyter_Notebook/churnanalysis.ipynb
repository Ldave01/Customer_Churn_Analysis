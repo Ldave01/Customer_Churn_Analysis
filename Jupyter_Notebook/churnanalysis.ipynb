{
  "nbformat": 4,
  "nbformat_minor": 0,
  "metadata": {
    "orig_nbformat": 4,
    "language_info": {
      "name": "python",
      "version": "3.9.5",
      "mimetype": "text/x-python",
      "codemirror_mode": {
        "name": "ipython",
        "version": 3
      },
      "pygments_lexer": "ipython3",
      "nbconvert_exporter": "python",
      "file_extension": ".py"
    },
    "kernelspec": {
      "name": "python3",
      "display_name": "Python 3.9.5 64-bit"
    },
    "interpreter": {
      "hash": "ac59ebe37160ed0dfa835113d9b8498d9f09ceb179beaac4002f036b9467c963"
    },
    "colab": {
      "name": "churnanalysis.ipynb",
      "provenance": [],
      "collapsed_sections": [
        "N3CdM4FaTM0w",
        "dekaqmlDTM0x",
        "QACbt-wITM0y",
        "Pdm-_GzvTM00",
        "wJZWFu5BTM1C",
        "1_ZR67lTTM1C",
        "bZj9PsXVTM1D"
      ]
    }
  },
  "cells": [
    {
      "cell_type": "markdown",
      "metadata": {
        "id": "Ea1NdxRiTM0D"
      },
      "source": [
        "# Customer Churn Analysis\n",
        "\n",
        "\n",
        "---\n",
        "\n",
        "\n",
        "## Context\n",
        "\n",
        " The leading telecom company has a massive market share but one big problem: several rivals that are constantly trying to  steal customers. Because this company has been the market leader for so many years, there are not significant opportunities to grow with new customers. Instead, company executives have decided to focus on their churn: the rate at which they lose customers.\n",
        "\n",
        "They have two teams especially interested in this data: the marketing team and the customer service team.  Each team has its own reason for wanting the analysis. The marketing team wants to find out who the most likely people to churn are and create content that suits their interests.  The customer service team would like to proactively reach out to customers who are about to churn, and try to encourage them to stay.\n",
        "\n",
        "They decide to hire you for two tasks:\n",
        "1.\tHelp them identify the types of customers who churn\n",
        "2.\tPredict who of their current customers will churn next month.\n",
        "\n",
        "To do this, they offer you a file of <a href='https://www.kaggle.com/blastchar/telco-customer-churn/data#'> 7,000 customers <a>. Each row is a customer.  The Churn column will say Yes if the customer churned in the past month. The data also offers demographic data and data on the services that each customer purchases. Finally there is information on the payments those customers make.\n",
        "\n",
        "Deliverables - What is expected Week 1\n",
        "A presentation explaining churn for the marketing team - any format. Tell a story to the marketing team to help them understand the customers who churn and what the marketing team can do to prevent it.  Highlight the information with helpful visualizations.\n",
        "1.\tHow much is churn affecting the business? How big is churn compared to the existing customer base?\n",
        "2.\tExplain churn by the below categories. Are there any factors that combine to be especially impactful?\n",
        "    *\tCustomer demographics like age and gender\n",
        "    *\tServices used\n",
        "    *\tBilling information\n",
        "3.\tWhat services are typically purchased by customers who churned? Are any services especially helpful in retaining customers?\n",
        "4.\tBonus! How long will it take for the company to lose all its customers?  Which demographics will they lose first?\n",
        "\n",
        "\n"
      ]
    },
    {
      "cell_type": "markdown",
      "metadata": {
        "id": "8ZNsU85QTM0O"
      },
      "source": [
        "## Import Libraries"
      ]
    },
    {
      "cell_type": "code",
      "metadata": {
        "id": "ohSbG5JoTM0P"
      },
      "source": [
        "import pandas as pd\n",
        "import numpy as np\n",
        "import matplotlib.pyplot as plt\n",
        "import seaborn as sns\n",
        "from scipy.stats import chi2_contingency"
      ],
      "execution_count": null,
      "outputs": []
    },
    {
      "cell_type": "markdown",
      "metadata": {
        "id": "Xlfs81HETM0Q"
      },
      "source": [
        "## Data Cleaning"
      ]
    },
    {
      "cell_type": "code",
      "metadata": {
        "id": "c8bAkZYxTM0R"
      },
      "source": [
        "#Loading Dataset File\n",
        "telco_data = pd.read_csv('https://raw.githubusercontent.com/Wedsanley/wedata/master/WA_Fn-UseC_-Telco-Customer-Churn.csv')"
      ],
      "execution_count": null,
      "outputs": []
    },
    {
      "cell_type": "code",
      "metadata": {
        "id": "o73pe6bKTM0S",
        "colab": {
          "base_uri": "https://localhost:8080/"
        },
        "outputId": "8aba8783-718d-466d-b747-8866dbd2cd38"
      },
      "source": [
        "#Exploring the Dataset file\n",
        "print(f\"The Shape: \\n{telco_data.shape}\\n\")\n",
        "print(f\"Variables infos: \\n{telco_data.info()}\\n\")\n",
        "print(f\"Number of unique modalities: \\n{telco_data.nunique()}\\n\")\n",
        "print(f\"Data view: \\n{telco_data.head()}\")"
      ],
      "execution_count": null,
      "outputs": [
        {
          "output_type": "stream",
          "text": [
            "The Shape: \n",
            "(7043, 21)\n",
            "\n",
            "<class 'pandas.core.frame.DataFrame'>\n",
            "RangeIndex: 7043 entries, 0 to 7042\n",
            "Data columns (total 21 columns):\n",
            " #   Column            Non-Null Count  Dtype  \n",
            "---  ------            --------------  -----  \n",
            " 0   customerID        7043 non-null   object \n",
            " 1   gender            7043 non-null   object \n",
            " 2   SeniorCitizen     7043 non-null   int64  \n",
            " 3   Partner           7043 non-null   object \n",
            " 4   Dependents        7043 non-null   object \n",
            " 5   tenure            7043 non-null   int64  \n",
            " 6   PhoneService      7043 non-null   object \n",
            " 7   MultipleLines     7043 non-null   object \n",
            " 8   InternetService   7043 non-null   object \n",
            " 9   OnlineSecurity    7043 non-null   object \n",
            " 10  OnlineBackup      7043 non-null   object \n",
            " 11  DeviceProtection  7043 non-null   object \n",
            " 12  TechSupport       7043 non-null   object \n",
            " 13  StreamingTV       7043 non-null   object \n",
            " 14  StreamingMovies   7043 non-null   object \n",
            " 15  Contract          7043 non-null   object \n",
            " 16  PaperlessBilling  7043 non-null   object \n",
            " 17  PaymentMethod     7043 non-null   object \n",
            " 18  MonthlyCharges    7043 non-null   float64\n",
            " 19  TotalCharges      7043 non-null   object \n",
            " 20  Churn             7043 non-null   object \n",
            "dtypes: float64(1), int64(2), object(18)\n",
            "memory usage: 1.1+ MB\n",
            "Variables infos: \n",
            "None\n",
            "\n",
            "Number of unique modalities: \n",
            "customerID          7043\n",
            "gender                 2\n",
            "SeniorCitizen          2\n",
            "Partner                2\n",
            "Dependents             2\n",
            "tenure                73\n",
            "PhoneService           2\n",
            "MultipleLines          3\n",
            "InternetService        3\n",
            "OnlineSecurity         3\n",
            "OnlineBackup           3\n",
            "DeviceProtection       3\n",
            "TechSupport            3\n",
            "StreamingTV            3\n",
            "StreamingMovies        3\n",
            "Contract               3\n",
            "PaperlessBilling       2\n",
            "PaymentMethod          4\n",
            "MonthlyCharges      1585\n",
            "TotalCharges        6531\n",
            "Churn                  2\n",
            "dtype: int64\n",
            "\n",
            "Data view: \n",
            "   customerID  gender  SeniorCitizen  ... MonthlyCharges TotalCharges  Churn\n",
            "0  7590-VHVEG  Female              0  ...          29.85        29.85     No\n",
            "1  5575-GNVDE    Male              0  ...          56.95       1889.5     No\n",
            "2  3668-QPYBK    Male              0  ...          53.85       108.15    Yes\n",
            "3  7795-CFOCW    Male              0  ...          42.30      1840.75     No\n",
            "4  9237-HQITU  Female              0  ...          70.70       151.65    Yes\n",
            "\n",
            "[5 rows x 21 columns]\n"
          ],
          "name": "stdout"
        }
      ]
    },
    {
      "cell_type": "markdown",
      "metadata": {
        "id": "yj3jOPbOTM0V"
      },
      "source": [
        "## Content\n",
        "\n",
        "* The Dataset contains <b>7043 Observations with 21 features</b>\n",
        "* Each row represents a customer\n",
        "\n",
        "\n",
        "The data set includes information about:\n",
        "\n",
        "* The dataset contains customers who are still purchasing the company's telecommunications services and former customers who are no longer purchasing the company's services.\n",
        "    *  The column is called <b><i>Churn</i></b> and it is the <b><i>Target Variable</b></i>\n",
        "* Services that each customer has signed up for \n",
        "    *  Phone, MultipleLines, Internet, OnlineSecurity,OnlineBackup, DeviceProtection, TechSupport, StreamingTV and StreamingMovies\n",
        "* Customer account information  \n",
        "    * tenure(number of month), contract, payment method, \n",
        "      paperless billing, monthly charges, and total charges\n",
        "* Demographic info about customers \n",
        "    * gender, age range(SeniorCitizen), and if they have partners and dependents"
      ]
    },
    {
      "cell_type": "code",
      "metadata": {
        "id": "9YxfsiRZTM0X"
      },
      "source": [
        "#Convert TotalCharges Column to numeric\n",
        "telco_data['TotalCharges']=pd.to_numeric(telco_data['TotalCharges'],errors='coerce')\n",
        "# Change (0, 1) in SeniorCiotizen Variable into (No, Yes)\n",
        "telco_data.SeniorCitizen.replace({1:\"Yes\", 0: \"No\"}, inplace=True)"
      ],
      "execution_count": null,
      "outputs": []
    },
    {
      "cell_type": "code",
      "metadata": {
        "id": "Hg4fweMkTM0Y",
        "colab": {
          "base_uri": "https://localhost:8080/"
        },
        "outputId": "afe58463-9ceb-4bdf-8fb5-d9953212d7a0"
      },
      "source": [
        "#Check Null\n",
        "telco_data.isnull().sum()"
      ],
      "execution_count": null,
      "outputs": [
        {
          "output_type": "execute_result",
          "data": {
            "text/plain": [
              "customerID           0\n",
              "gender               0\n",
              "SeniorCitizen        0\n",
              "Partner              0\n",
              "Dependents           0\n",
              "tenure               0\n",
              "PhoneService         0\n",
              "MultipleLines        0\n",
              "InternetService      0\n",
              "OnlineSecurity       0\n",
              "OnlineBackup         0\n",
              "DeviceProtection     0\n",
              "TechSupport          0\n",
              "StreamingTV          0\n",
              "StreamingMovies      0\n",
              "Contract             0\n",
              "PaperlessBilling     0\n",
              "PaymentMethod        0\n",
              "MonthlyCharges       0\n",
              "TotalCharges        11\n",
              "Churn                0\n",
              "dtype: int64"
            ]
          },
          "metadata": {},
          "execution_count": 8
        }
      ]
    },
    {
      "cell_type": "code",
      "metadata": {
        "id": "x494YhCQTM0d",
        "colab": {
          "base_uri": "https://localhost:8080/",
          "height": 390
        },
        "outputId": "872213ae-d54b-4b16-d941-1d0ebbc28373"
      },
      "source": [
        "#visualize\n",
        "first_view=telco_data[telco_data['tenure']==0]\n",
        "first_view.loc[:,['customerID','gender','tenure','MonthlyCharges','TotalCharges']]"
      ],
      "execution_count": null,
      "outputs": [
        {
          "output_type": "execute_result",
          "data": {
            "text/html": [
              "<div>\n",
              "<style scoped>\n",
              "    .dataframe tbody tr th:only-of-type {\n",
              "        vertical-align: middle;\n",
              "    }\n",
              "\n",
              "    .dataframe tbody tr th {\n",
              "        vertical-align: top;\n",
              "    }\n",
              "\n",
              "    .dataframe thead th {\n",
              "        text-align: right;\n",
              "    }\n",
              "</style>\n",
              "<table border=\"1\" class=\"dataframe\">\n",
              "  <thead>\n",
              "    <tr style=\"text-align: right;\">\n",
              "      <th></th>\n",
              "      <th>customerID</th>\n",
              "      <th>gender</th>\n",
              "      <th>tenure</th>\n",
              "      <th>MonthlyCharges</th>\n",
              "      <th>TotalCharges</th>\n",
              "    </tr>\n",
              "  </thead>\n",
              "  <tbody>\n",
              "    <tr>\n",
              "      <th>488</th>\n",
              "      <td>4472-LVYGI</td>\n",
              "      <td>Female</td>\n",
              "      <td>0</td>\n",
              "      <td>52.55</td>\n",
              "      <td>NaN</td>\n",
              "    </tr>\n",
              "    <tr>\n",
              "      <th>753</th>\n",
              "      <td>3115-CZMZD</td>\n",
              "      <td>Male</td>\n",
              "      <td>0</td>\n",
              "      <td>20.25</td>\n",
              "      <td>NaN</td>\n",
              "    </tr>\n",
              "    <tr>\n",
              "      <th>936</th>\n",
              "      <td>5709-LVOEQ</td>\n",
              "      <td>Female</td>\n",
              "      <td>0</td>\n",
              "      <td>80.85</td>\n",
              "      <td>NaN</td>\n",
              "    </tr>\n",
              "    <tr>\n",
              "      <th>1082</th>\n",
              "      <td>4367-NUYAO</td>\n",
              "      <td>Male</td>\n",
              "      <td>0</td>\n",
              "      <td>25.75</td>\n",
              "      <td>NaN</td>\n",
              "    </tr>\n",
              "    <tr>\n",
              "      <th>1340</th>\n",
              "      <td>1371-DWPAZ</td>\n",
              "      <td>Female</td>\n",
              "      <td>0</td>\n",
              "      <td>56.05</td>\n",
              "      <td>NaN</td>\n",
              "    </tr>\n",
              "    <tr>\n",
              "      <th>3331</th>\n",
              "      <td>7644-OMVMY</td>\n",
              "      <td>Male</td>\n",
              "      <td>0</td>\n",
              "      <td>19.85</td>\n",
              "      <td>NaN</td>\n",
              "    </tr>\n",
              "    <tr>\n",
              "      <th>3826</th>\n",
              "      <td>3213-VVOLG</td>\n",
              "      <td>Male</td>\n",
              "      <td>0</td>\n",
              "      <td>25.35</td>\n",
              "      <td>NaN</td>\n",
              "    </tr>\n",
              "    <tr>\n",
              "      <th>4380</th>\n",
              "      <td>2520-SGTTA</td>\n",
              "      <td>Female</td>\n",
              "      <td>0</td>\n",
              "      <td>20.00</td>\n",
              "      <td>NaN</td>\n",
              "    </tr>\n",
              "    <tr>\n",
              "      <th>5218</th>\n",
              "      <td>2923-ARZLG</td>\n",
              "      <td>Male</td>\n",
              "      <td>0</td>\n",
              "      <td>19.70</td>\n",
              "      <td>NaN</td>\n",
              "    </tr>\n",
              "    <tr>\n",
              "      <th>6670</th>\n",
              "      <td>4075-WKNIU</td>\n",
              "      <td>Female</td>\n",
              "      <td>0</td>\n",
              "      <td>73.35</td>\n",
              "      <td>NaN</td>\n",
              "    </tr>\n",
              "    <tr>\n",
              "      <th>6754</th>\n",
              "      <td>2775-SEFEE</td>\n",
              "      <td>Male</td>\n",
              "      <td>0</td>\n",
              "      <td>61.90</td>\n",
              "      <td>NaN</td>\n",
              "    </tr>\n",
              "  </tbody>\n",
              "</table>\n",
              "</div>"
            ],
            "text/plain": [
              "      customerID  gender  tenure  MonthlyCharges  TotalCharges\n",
              "488   4472-LVYGI  Female       0           52.55           NaN\n",
              "753   3115-CZMZD    Male       0           20.25           NaN\n",
              "936   5709-LVOEQ  Female       0           80.85           NaN\n",
              "1082  4367-NUYAO    Male       0           25.75           NaN\n",
              "1340  1371-DWPAZ  Female       0           56.05           NaN\n",
              "3331  7644-OMVMY    Male       0           19.85           NaN\n",
              "3826  3213-VVOLG    Male       0           25.35           NaN\n",
              "4380  2520-SGTTA  Female       0           20.00           NaN\n",
              "5218  2923-ARZLG    Male       0           19.70           NaN\n",
              "6670  4075-WKNIU  Female       0           73.35           NaN\n",
              "6754  2775-SEFEE    Male       0           61.90           NaN"
            ]
          },
          "metadata": {},
          "execution_count": 9
        }
      ]
    },
    {
      "cell_type": "code",
      "metadata": {
        "id": "NJyWrhtgTM0f"
      },
      "source": [
        "# fill missing values by the monthly charges where the tenure is 0, we suppose that the monthly charge is the total amount of charges.\n",
        "telco_data['TotalCharges'].fillna(telco_data[telco_data['tenure']==0]['MonthlyCharges'], inplace=True)"
      ],
      "execution_count": null,
      "outputs": []
    },
    {
      "cell_type": "code",
      "metadata": {
        "id": "y1B_sUTcTM0f",
        "colab": {
          "base_uri": "https://localhost:8080/",
          "height": 390
        },
        "outputId": "82c15d91-e5ae-475e-9383-cdb11c7cde11"
      },
      "source": [
        "#visualize\n",
        "second_view=telco_data[telco_data['tenure']==0]\n",
        "second_view.loc[:,['customerID','gender','tenure','MonthlyCharges','TotalCharges']]"
      ],
      "execution_count": null,
      "outputs": [
        {
          "output_type": "execute_result",
          "data": {
            "text/html": [
              "<div>\n",
              "<style scoped>\n",
              "    .dataframe tbody tr th:only-of-type {\n",
              "        vertical-align: middle;\n",
              "    }\n",
              "\n",
              "    .dataframe tbody tr th {\n",
              "        vertical-align: top;\n",
              "    }\n",
              "\n",
              "    .dataframe thead th {\n",
              "        text-align: right;\n",
              "    }\n",
              "</style>\n",
              "<table border=\"1\" class=\"dataframe\">\n",
              "  <thead>\n",
              "    <tr style=\"text-align: right;\">\n",
              "      <th></th>\n",
              "      <th>customerID</th>\n",
              "      <th>gender</th>\n",
              "      <th>tenure</th>\n",
              "      <th>MonthlyCharges</th>\n",
              "      <th>TotalCharges</th>\n",
              "    </tr>\n",
              "  </thead>\n",
              "  <tbody>\n",
              "    <tr>\n",
              "      <th>488</th>\n",
              "      <td>4472-LVYGI</td>\n",
              "      <td>Female</td>\n",
              "      <td>0</td>\n",
              "      <td>52.55</td>\n",
              "      <td>52.55</td>\n",
              "    </tr>\n",
              "    <tr>\n",
              "      <th>753</th>\n",
              "      <td>3115-CZMZD</td>\n",
              "      <td>Male</td>\n",
              "      <td>0</td>\n",
              "      <td>20.25</td>\n",
              "      <td>20.25</td>\n",
              "    </tr>\n",
              "    <tr>\n",
              "      <th>936</th>\n",
              "      <td>5709-LVOEQ</td>\n",
              "      <td>Female</td>\n",
              "      <td>0</td>\n",
              "      <td>80.85</td>\n",
              "      <td>80.85</td>\n",
              "    </tr>\n",
              "    <tr>\n",
              "      <th>1082</th>\n",
              "      <td>4367-NUYAO</td>\n",
              "      <td>Male</td>\n",
              "      <td>0</td>\n",
              "      <td>25.75</td>\n",
              "      <td>25.75</td>\n",
              "    </tr>\n",
              "    <tr>\n",
              "      <th>1340</th>\n",
              "      <td>1371-DWPAZ</td>\n",
              "      <td>Female</td>\n",
              "      <td>0</td>\n",
              "      <td>56.05</td>\n",
              "      <td>56.05</td>\n",
              "    </tr>\n",
              "    <tr>\n",
              "      <th>3331</th>\n",
              "      <td>7644-OMVMY</td>\n",
              "      <td>Male</td>\n",
              "      <td>0</td>\n",
              "      <td>19.85</td>\n",
              "      <td>19.85</td>\n",
              "    </tr>\n",
              "    <tr>\n",
              "      <th>3826</th>\n",
              "      <td>3213-VVOLG</td>\n",
              "      <td>Male</td>\n",
              "      <td>0</td>\n",
              "      <td>25.35</td>\n",
              "      <td>25.35</td>\n",
              "    </tr>\n",
              "    <tr>\n",
              "      <th>4380</th>\n",
              "      <td>2520-SGTTA</td>\n",
              "      <td>Female</td>\n",
              "      <td>0</td>\n",
              "      <td>20.00</td>\n",
              "      <td>20.00</td>\n",
              "    </tr>\n",
              "    <tr>\n",
              "      <th>5218</th>\n",
              "      <td>2923-ARZLG</td>\n",
              "      <td>Male</td>\n",
              "      <td>0</td>\n",
              "      <td>19.70</td>\n",
              "      <td>19.70</td>\n",
              "    </tr>\n",
              "    <tr>\n",
              "      <th>6670</th>\n",
              "      <td>4075-WKNIU</td>\n",
              "      <td>Female</td>\n",
              "      <td>0</td>\n",
              "      <td>73.35</td>\n",
              "      <td>73.35</td>\n",
              "    </tr>\n",
              "    <tr>\n",
              "      <th>6754</th>\n",
              "      <td>2775-SEFEE</td>\n",
              "      <td>Male</td>\n",
              "      <td>0</td>\n",
              "      <td>61.90</td>\n",
              "      <td>61.90</td>\n",
              "    </tr>\n",
              "  </tbody>\n",
              "</table>\n",
              "</div>"
            ],
            "text/plain": [
              "      customerID  gender  tenure  MonthlyCharges  TotalCharges\n",
              "488   4472-LVYGI  Female       0           52.55         52.55\n",
              "753   3115-CZMZD    Male       0           20.25         20.25\n",
              "936   5709-LVOEQ  Female       0           80.85         80.85\n",
              "1082  4367-NUYAO    Male       0           25.75         25.75\n",
              "1340  1371-DWPAZ  Female       0           56.05         56.05\n",
              "3331  7644-OMVMY    Male       0           19.85         19.85\n",
              "3826  3213-VVOLG    Male       0           25.35         25.35\n",
              "4380  2520-SGTTA  Female       0           20.00         20.00\n",
              "5218  2923-ARZLG    Male       0           19.70         19.70\n",
              "6670  4075-WKNIU  Female       0           73.35         73.35\n",
              "6754  2775-SEFEE    Male       0           61.90         61.90"
            ]
          },
          "metadata": {},
          "execution_count": 11
        }
      ]
    },
    {
      "cell_type": "code",
      "metadata": {
        "id": "VjoVuO_HTM0g",
        "colab": {
          "base_uri": "https://localhost:8080/"
        },
        "outputId": "7378316b-f45f-47fd-8587-2c2ffd5ddd92"
      },
      "source": [
        "#Check Null\n",
        "telco_data.isnull().sum()"
      ],
      "execution_count": null,
      "outputs": [
        {
          "output_type": "execute_result",
          "data": {
            "text/plain": [
              "customerID          0\n",
              "gender              0\n",
              "SeniorCitizen       0\n",
              "Partner             0\n",
              "Dependents          0\n",
              "tenure              0\n",
              "PhoneService        0\n",
              "MultipleLines       0\n",
              "InternetService     0\n",
              "OnlineSecurity      0\n",
              "OnlineBackup        0\n",
              "DeviceProtection    0\n",
              "TechSupport         0\n",
              "StreamingTV         0\n",
              "StreamingMovies     0\n",
              "Contract            0\n",
              "PaperlessBilling    0\n",
              "PaymentMethod       0\n",
              "MonthlyCharges      0\n",
              "TotalCharges        0\n",
              "Churn               0\n",
              "dtype: int64"
            ]
          },
          "metadata": {},
          "execution_count": 12
        }
      ]
    },
    {
      "cell_type": "code",
      "metadata": {
        "id": "SzmYZjQTTM0h"
      },
      "source": [
        "#Group the tenure by group of twelve month.\n",
        "labels  = [f\"{i} - {i+12}\" for i in range(0,12,12)]\n",
        "labels2 = [f\"{i+1} - {i+12}\" for i in range(12,72,12)]\n",
        "labels.extend(labels2)\n",
        "telco_data['tenure_group'] = pd.cut(telco_data.tenure, bins=[0, 12, 24, 36, 48, 60, 72],labels=labels, right=True)"
      ],
      "execution_count": null,
      "outputs": []
    },
    {
      "cell_type": "code",
      "metadata": {
        "id": "7Ep2MOVfTM0i",
        "colab": {
          "base_uri": "https://localhost:8080/",
          "height": 359
        },
        "outputId": "9f47b626-2bf7-4823-90b3-106327a7bb75"
      },
      "source": [
        "telco_data.loc[:,['tenure','tenure_group']].head(10)"
      ],
      "execution_count": null,
      "outputs": [
        {
          "output_type": "execute_result",
          "data": {
            "text/html": [
              "<div>\n",
              "<style scoped>\n",
              "    .dataframe tbody tr th:only-of-type {\n",
              "        vertical-align: middle;\n",
              "    }\n",
              "\n",
              "    .dataframe tbody tr th {\n",
              "        vertical-align: top;\n",
              "    }\n",
              "\n",
              "    .dataframe thead th {\n",
              "        text-align: right;\n",
              "    }\n",
              "</style>\n",
              "<table border=\"1\" class=\"dataframe\">\n",
              "  <thead>\n",
              "    <tr style=\"text-align: right;\">\n",
              "      <th></th>\n",
              "      <th>tenure</th>\n",
              "      <th>tenure_group</th>\n",
              "    </tr>\n",
              "  </thead>\n",
              "  <tbody>\n",
              "    <tr>\n",
              "      <th>0</th>\n",
              "      <td>1</td>\n",
              "      <td>0 - 12</td>\n",
              "    </tr>\n",
              "    <tr>\n",
              "      <th>1</th>\n",
              "      <td>34</td>\n",
              "      <td>25 - 36</td>\n",
              "    </tr>\n",
              "    <tr>\n",
              "      <th>2</th>\n",
              "      <td>2</td>\n",
              "      <td>0 - 12</td>\n",
              "    </tr>\n",
              "    <tr>\n",
              "      <th>3</th>\n",
              "      <td>45</td>\n",
              "      <td>37 - 48</td>\n",
              "    </tr>\n",
              "    <tr>\n",
              "      <th>4</th>\n",
              "      <td>2</td>\n",
              "      <td>0 - 12</td>\n",
              "    </tr>\n",
              "    <tr>\n",
              "      <th>5</th>\n",
              "      <td>8</td>\n",
              "      <td>0 - 12</td>\n",
              "    </tr>\n",
              "    <tr>\n",
              "      <th>6</th>\n",
              "      <td>22</td>\n",
              "      <td>13 - 24</td>\n",
              "    </tr>\n",
              "    <tr>\n",
              "      <th>7</th>\n",
              "      <td>10</td>\n",
              "      <td>0 - 12</td>\n",
              "    </tr>\n",
              "    <tr>\n",
              "      <th>8</th>\n",
              "      <td>28</td>\n",
              "      <td>25 - 36</td>\n",
              "    </tr>\n",
              "    <tr>\n",
              "      <th>9</th>\n",
              "      <td>62</td>\n",
              "      <td>61 - 72</td>\n",
              "    </tr>\n",
              "  </tbody>\n",
              "</table>\n",
              "</div>"
            ],
            "text/plain": [
              "   tenure tenure_group\n",
              "0       1       0 - 12\n",
              "1      34      25 - 36\n",
              "2       2       0 - 12\n",
              "3      45      37 - 48\n",
              "4       2       0 - 12\n",
              "5       8       0 - 12\n",
              "6      22      13 - 24\n",
              "7      10       0 - 12\n",
              "8      28      25 - 36\n",
              "9      62      61 - 72"
            ]
          },
          "metadata": {},
          "execution_count": 14
        }
      ]
    },
    {
      "cell_type": "code",
      "metadata": {
        "id": "sVtf8DJJTM0i",
        "colab": {
          "base_uri": "https://localhost:8080/",
          "height": 390
        },
        "outputId": "9b5d14dc-52e3-4172-f54c-f3a03ecb24d6"
      },
      "source": [
        "view=telco_data[telco_data['tenure']==0]\n",
        "view.loc[:,['customerID','gender','tenure','tenure_group','MonthlyCharges','TotalCharges']]"
      ],
      "execution_count": null,
      "outputs": [
        {
          "output_type": "execute_result",
          "data": {
            "text/html": [
              "<div>\n",
              "<style scoped>\n",
              "    .dataframe tbody tr th:only-of-type {\n",
              "        vertical-align: middle;\n",
              "    }\n",
              "\n",
              "    .dataframe tbody tr th {\n",
              "        vertical-align: top;\n",
              "    }\n",
              "\n",
              "    .dataframe thead th {\n",
              "        text-align: right;\n",
              "    }\n",
              "</style>\n",
              "<table border=\"1\" class=\"dataframe\">\n",
              "  <thead>\n",
              "    <tr style=\"text-align: right;\">\n",
              "      <th></th>\n",
              "      <th>customerID</th>\n",
              "      <th>gender</th>\n",
              "      <th>tenure</th>\n",
              "      <th>tenure_group</th>\n",
              "      <th>MonthlyCharges</th>\n",
              "      <th>TotalCharges</th>\n",
              "    </tr>\n",
              "  </thead>\n",
              "  <tbody>\n",
              "    <tr>\n",
              "      <th>488</th>\n",
              "      <td>4472-LVYGI</td>\n",
              "      <td>Female</td>\n",
              "      <td>0</td>\n",
              "      <td>NaN</td>\n",
              "      <td>52.55</td>\n",
              "      <td>52.55</td>\n",
              "    </tr>\n",
              "    <tr>\n",
              "      <th>753</th>\n",
              "      <td>3115-CZMZD</td>\n",
              "      <td>Male</td>\n",
              "      <td>0</td>\n",
              "      <td>NaN</td>\n",
              "      <td>20.25</td>\n",
              "      <td>20.25</td>\n",
              "    </tr>\n",
              "    <tr>\n",
              "      <th>936</th>\n",
              "      <td>5709-LVOEQ</td>\n",
              "      <td>Female</td>\n",
              "      <td>0</td>\n",
              "      <td>NaN</td>\n",
              "      <td>80.85</td>\n",
              "      <td>80.85</td>\n",
              "    </tr>\n",
              "    <tr>\n",
              "      <th>1082</th>\n",
              "      <td>4367-NUYAO</td>\n",
              "      <td>Male</td>\n",
              "      <td>0</td>\n",
              "      <td>NaN</td>\n",
              "      <td>25.75</td>\n",
              "      <td>25.75</td>\n",
              "    </tr>\n",
              "    <tr>\n",
              "      <th>1340</th>\n",
              "      <td>1371-DWPAZ</td>\n",
              "      <td>Female</td>\n",
              "      <td>0</td>\n",
              "      <td>NaN</td>\n",
              "      <td>56.05</td>\n",
              "      <td>56.05</td>\n",
              "    </tr>\n",
              "    <tr>\n",
              "      <th>3331</th>\n",
              "      <td>7644-OMVMY</td>\n",
              "      <td>Male</td>\n",
              "      <td>0</td>\n",
              "      <td>NaN</td>\n",
              "      <td>19.85</td>\n",
              "      <td>19.85</td>\n",
              "    </tr>\n",
              "    <tr>\n",
              "      <th>3826</th>\n",
              "      <td>3213-VVOLG</td>\n",
              "      <td>Male</td>\n",
              "      <td>0</td>\n",
              "      <td>NaN</td>\n",
              "      <td>25.35</td>\n",
              "      <td>25.35</td>\n",
              "    </tr>\n",
              "    <tr>\n",
              "      <th>4380</th>\n",
              "      <td>2520-SGTTA</td>\n",
              "      <td>Female</td>\n",
              "      <td>0</td>\n",
              "      <td>NaN</td>\n",
              "      <td>20.00</td>\n",
              "      <td>20.00</td>\n",
              "    </tr>\n",
              "    <tr>\n",
              "      <th>5218</th>\n",
              "      <td>2923-ARZLG</td>\n",
              "      <td>Male</td>\n",
              "      <td>0</td>\n",
              "      <td>NaN</td>\n",
              "      <td>19.70</td>\n",
              "      <td>19.70</td>\n",
              "    </tr>\n",
              "    <tr>\n",
              "      <th>6670</th>\n",
              "      <td>4075-WKNIU</td>\n",
              "      <td>Female</td>\n",
              "      <td>0</td>\n",
              "      <td>NaN</td>\n",
              "      <td>73.35</td>\n",
              "      <td>73.35</td>\n",
              "    </tr>\n",
              "    <tr>\n",
              "      <th>6754</th>\n",
              "      <td>2775-SEFEE</td>\n",
              "      <td>Male</td>\n",
              "      <td>0</td>\n",
              "      <td>NaN</td>\n",
              "      <td>61.90</td>\n",
              "      <td>61.90</td>\n",
              "    </tr>\n",
              "  </tbody>\n",
              "</table>\n",
              "</div>"
            ],
            "text/plain": [
              "      customerID  gender  tenure tenure_group  MonthlyCharges  TotalCharges\n",
              "488   4472-LVYGI  Female       0          NaN           52.55         52.55\n",
              "753   3115-CZMZD    Male       0          NaN           20.25         20.25\n",
              "936   5709-LVOEQ  Female       0          NaN           80.85         80.85\n",
              "1082  4367-NUYAO    Male       0          NaN           25.75         25.75\n",
              "1340  1371-DWPAZ  Female       0          NaN           56.05         56.05\n",
              "3331  7644-OMVMY    Male       0          NaN           19.85         19.85\n",
              "3826  3213-VVOLG    Male       0          NaN           25.35         25.35\n",
              "4380  2520-SGTTA  Female       0          NaN           20.00         20.00\n",
              "5218  2923-ARZLG    Male       0          NaN           19.70         19.70\n",
              "6670  4075-WKNIU  Female       0          NaN           73.35         73.35\n",
              "6754  2775-SEFEE    Male       0          NaN           61.90         61.90"
            ]
          },
          "metadata": {},
          "execution_count": 15
        }
      ]
    },
    {
      "cell_type": "code",
      "metadata": {
        "id": "AN8C4qJV4GC9"
      },
      "source": [
        "telco_data['tenure_group'].fillna(telco_data[telco_data['tenure']==2]['tenure_group'], inplace=True)"
      ],
      "execution_count": null,
      "outputs": []
    },
    {
      "cell_type": "code",
      "metadata": {
        "id": "gwAEmX4yTM0k",
        "colab": {
          "base_uri": "https://localhost:8080/",
          "height": 297
        },
        "outputId": "9a40a50e-f7d1-4035-d4f4-e3d70c68e5d6"
      },
      "source": [
        "telco_data.describe()"
      ],
      "execution_count": null,
      "outputs": [
        {
          "output_type": "execute_result",
          "data": {
            "text/html": [
              "<div>\n",
              "<style scoped>\n",
              "    .dataframe tbody tr th:only-of-type {\n",
              "        vertical-align: middle;\n",
              "    }\n",
              "\n",
              "    .dataframe tbody tr th {\n",
              "        vertical-align: top;\n",
              "    }\n",
              "\n",
              "    .dataframe thead th {\n",
              "        text-align: right;\n",
              "    }\n",
              "</style>\n",
              "<table border=\"1\" class=\"dataframe\">\n",
              "  <thead>\n",
              "    <tr style=\"text-align: right;\">\n",
              "      <th></th>\n",
              "      <th>tenure</th>\n",
              "      <th>MonthlyCharges</th>\n",
              "      <th>TotalCharges</th>\n",
              "    </tr>\n",
              "  </thead>\n",
              "  <tbody>\n",
              "    <tr>\n",
              "      <th>count</th>\n",
              "      <td>7043.000000</td>\n",
              "      <td>7043.000000</td>\n",
              "      <td>7043.000000</td>\n",
              "    </tr>\n",
              "    <tr>\n",
              "      <th>mean</th>\n",
              "      <td>32.371149</td>\n",
              "      <td>64.761692</td>\n",
              "      <td>2279.798992</td>\n",
              "    </tr>\n",
              "    <tr>\n",
              "      <th>std</th>\n",
              "      <td>24.559481</td>\n",
              "      <td>30.090047</td>\n",
              "      <td>2266.730170</td>\n",
              "    </tr>\n",
              "    <tr>\n",
              "      <th>min</th>\n",
              "      <td>0.000000</td>\n",
              "      <td>18.250000</td>\n",
              "      <td>18.800000</td>\n",
              "    </tr>\n",
              "    <tr>\n",
              "      <th>25%</th>\n",
              "      <td>9.000000</td>\n",
              "      <td>35.500000</td>\n",
              "      <td>398.550000</td>\n",
              "    </tr>\n",
              "    <tr>\n",
              "      <th>50%</th>\n",
              "      <td>29.000000</td>\n",
              "      <td>70.350000</td>\n",
              "      <td>1394.550000</td>\n",
              "    </tr>\n",
              "    <tr>\n",
              "      <th>75%</th>\n",
              "      <td>55.000000</td>\n",
              "      <td>89.850000</td>\n",
              "      <td>3786.600000</td>\n",
              "    </tr>\n",
              "    <tr>\n",
              "      <th>max</th>\n",
              "      <td>72.000000</td>\n",
              "      <td>118.750000</td>\n",
              "      <td>8684.800000</td>\n",
              "    </tr>\n",
              "  </tbody>\n",
              "</table>\n",
              "</div>"
            ],
            "text/plain": [
              "            tenure  MonthlyCharges  TotalCharges\n",
              "count  7043.000000     7043.000000   7043.000000\n",
              "mean     32.371149       64.761692   2279.798992\n",
              "std      24.559481       30.090047   2266.730170\n",
              "min       0.000000       18.250000     18.800000\n",
              "25%       9.000000       35.500000    398.550000\n",
              "50%      29.000000       70.350000   1394.550000\n",
              "75%      55.000000       89.850000   3786.600000\n",
              "max      72.000000      118.750000   8684.800000"
            ]
          },
          "metadata": {},
          "execution_count": 17
        }
      ]
    },
    {
      "cell_type": "markdown",
      "metadata": {
        "id": "g7bPXPLGTM0l"
      },
      "source": [
        "## Observations\n",
        "\n",
        "+ The Dataset File has 7043 observations records with 21 variables.\n",
        "\n",
        "- SeniorCitizen is a categorical column with only 2 values, such as 0 & 1. It indicates if the customer is an elderly person or a young person\n",
        "- The Average Monthly Charges is approximately $ 64.76, the min monthly charge is approximately 18.25, the max is approximately 118.75 and 75% of the customers have a monthly charge less than 90\n",
        "+ The Average Total Charges is approximately  2279.80, the max is approximately  8684.80 and 75% of the customers have a Total charge less than 3787\n",
        "\n",
        "The column  <b><i>tenure</i></b> (The amount of months that the customer has been with the company)\n",
        "The describe analysis shows that:\n",
        "* The average tenure is around 32 months and, the max tenure is about 72 months and 75% of the customers have less 55 months with the company and there is group of new customers who have <b><i>less than a month</i></b>.\n",
        "\n"
      ]
    },
    {
      "cell_type": "markdown",
      "metadata": {
        "id": "xsE4AKs6TM0m"
      },
      "source": [
        "# First Task\n",
        " ### <i>Identify The Types Of Customers Who Churn\n"
      ]
    },
    {
      "cell_type": "markdown",
      "metadata": {
        "id": "lw1cGPJmTM0n"
      },
      "source": [
        "### <i>How much is churn affecting the business?"
      ]
    },
    {
      "cell_type": "code",
      "metadata": {
        "id": "zVO1EphRTM0n",
        "colab": {
          "base_uri": "https://localhost:8080/",
          "height": 511
        },
        "outputId": "6befa969-1797-4c8b-f8c3-1133bd0023f5"
      },
      "source": [
        "telco_monthly_income  = telco_data['MonthlyCharges'].sum()\n",
        "churn_customer_amount = telco_data.groupby(by=['Churn']).MonthlyCharges.sum().to_frame()\n",
        "churn_customer_amount[\"%\"] = 0\n",
        "churn_customer_amount[\"%\"]= churn_customer_amount[\"MonthlyCharges\"].apply(lambda x: round(x/churn_customer_amount['MonthlyCharges'].sum(), 3))\n",
        "display(churn_customer_amount)\n",
        "\n",
        "#telco_data['MonthlyCharges'].plot(kind='hist')\n",
        "#telco_data[telco_data['Churn']=='Yes']['MonthlyCharges'].plot(kind='hist')\n",
        "\n",
        "plt.figure(figsize=(14,6))\n",
        "plt.style.use('seaborn-darkgrid')\n",
        "plt.hist(telco_data.MonthlyCharges,bins=20,alpha =0.5,color=\"red\")\n",
        "plt.hist(telco_data[telco_data['Churn']=='Yes'].MonthlyCharges,bins=10,alpha =0.5,color=\"blue\")\n",
        "plt.title(\"Income Distribution\")\n",
        "plt.show()"
      ],
      "execution_count": null,
      "outputs": [
        {
          "output_type": "display_data",
          "data": {
            "text/html": [
              "<div>\n",
              "<style scoped>\n",
              "    .dataframe tbody tr th:only-of-type {\n",
              "        vertical-align: middle;\n",
              "    }\n",
              "\n",
              "    .dataframe tbody tr th {\n",
              "        vertical-align: top;\n",
              "    }\n",
              "\n",
              "    .dataframe thead th {\n",
              "        text-align: right;\n",
              "    }\n",
              "</style>\n",
              "<table border=\"1\" class=\"dataframe\">\n",
              "  <thead>\n",
              "    <tr style=\"text-align: right;\">\n",
              "      <th></th>\n",
              "      <th>MonthlyCharges</th>\n",
              "      <th>%</th>\n",
              "    </tr>\n",
              "    <tr>\n",
              "      <th>Churn</th>\n",
              "      <th></th>\n",
              "      <th></th>\n",
              "    </tr>\n",
              "  </thead>\n",
              "  <tbody>\n",
              "    <tr>\n",
              "      <th>No</th>\n",
              "      <td>316985.75</td>\n",
              "      <td>0.695</td>\n",
              "    </tr>\n",
              "    <tr>\n",
              "      <th>Yes</th>\n",
              "      <td>139130.85</td>\n",
              "      <td>0.305</td>\n",
              "    </tr>\n",
              "  </tbody>\n",
              "</table>\n",
              "</div>"
            ],
            "text/plain": [
              "       MonthlyCharges      %\n",
              "Churn                       \n",
              "No          316985.75  0.695\n",
              "Yes         139130.85  0.305"
            ]
          },
          "metadata": {}
        },
        {
          "output_type": "display_data",
          "data": {
            "image/png": "[encoded data removed]",
            "text/plain": [
              "<Figure size 1008x432 with 1 Axes>"
            ]
          },
          "metadata": {
            "needs_background": "light"
          }
        }
      ]
    },
    {
      "cell_type": "markdown",
      "metadata": {
        "id": "EqvkNCheTM0o"
      },
      "source": [
        "For the past month, customers who have churned have caused a total loss of $ 139,130.85, which represents 30% of the company's monthly income"
      ]
    },
    {
      "cell_type": "markdown",
      "metadata": {
        "id": "pBdJnPv-yRKL"
      },
      "source": [
        "### General functions\n",
        "---"
      ]
    },
    {
      "cell_type": "code",
      "metadata": {
        "id": "tu5lvMVVTM0o"
      },
      "source": [
        "#Graph to vizualize the distribution of the churn data\n",
        "def plot(data):\n",
        "  plt.figure(figsize=(6,6))\n",
        "  bar =sns.barplot(data=data,x=data.index,y=\"Total\")\n",
        "  i = 0\n",
        "  for tot,perc in zip(data['Total'],data['%']):\n",
        "    bar.text(i,\n",
        "            tot/2,\n",
        "            str(np.round(perc*100,2))+ \"%\",\n",
        "            fontdict=dict(color='White',fontsize=12,horizontalalignment=\"center\"))\n",
        "    bar.text(i,\n",
        "            tot+10,\n",
        "            str(tot),\n",
        "            fontdict=dict(color='blue',fontsize=12,horizontalalignment=\"center\"))\n",
        "    \n",
        "    i+=1\n",
        "  plt.title(\"Churned Distribution\")\n",
        "  plt.legend()"
      ],
      "execution_count": null,
      "outputs": []
    },
    {
      "cell_type": "code",
      "metadata": {
        "id": "52OskpNlTM0p"
      },
      "source": [
        "#function to create pivote table \n",
        "def table(data,column,index,value,aggf):\n",
        "    count = data[data[column]=='Yes'].pivot_table(index=index,columns=column,values=value, aggfunc=aggf)\n",
        "    prct  = round(count/data[data[column]=='Yes'].shape[0],3)\n",
        "    data  = pd.concat([count,prct],axis=1)\n",
        "    data.columns = ['Total','%']\n",
        "    plot(data)\n",
        "    return data \n"
      ],
      "execution_count": null,
      "outputs": []
    },
    {
      "cell_type": "code",
      "metadata": {
        "id": "qbHiV2Qeew7n"
      },
      "source": [
        "#Test de cramer\n",
        "def cramers_stat(col=\"\", data=telco_data):\n",
        "    crosstab = pd.crosstab(telco_data['Churn'],telco_data[col], margins=1)\n",
        "    chi2 = chi2_contingency(crosstab)[0]\n",
        "    n = crosstab.at['All', 'All']\n",
        "    v_cramer = np.sqrt(chi2 / (n*(min(crosstab.shape)-1)))\n",
        "    if v_cramer < 0.10:\n",
        "      print(f\"Between churn and {col}, the cramer's V is {round(v_cramer, 2)}. The relationship is null or very weak.\")\n",
        "    elif (v_cramer >= 0.10 and v_cramer < 0.20):\n",
        "      print(f\"Between churn and {col}, the cramer's V is {round(v_cramer, 2)}. The relationship is weak.\")\n",
        "    elif (v_cramer >= 0.20 and v_cramer < 0.30):\n",
        "      print(f\"Between churn and {col}, the cramer's V is {round(v_cramer, 2)}. The relationship is moderate.\")\n",
        "    else:\n",
        "      print(f\"Between churn and {col},the cramer's V is {round(v_cramer, 2)}. The relationship is strong.\")\n",
        "    \n"
      ],
      "execution_count": null,
      "outputs": []
    },
    {
      "cell_type": "code",
      "metadata": {
        "id": "BQFB3wlJ0uFy"
      },
      "source": [
        "# Function to verify the indepedency between the churn and an other variable in the telco_data\n",
        "def depedency(col, data = telco_data):\n",
        "  tb = pd.crosstab(telco_data[col], telco_data[\"Churn\"], normalize=False)\n",
        "  chi2, pval, dof, expected = chi2_contingency(tb)\n",
        "  Null_Hypothesis = \" are independent with a significance level of 95%.\"\n",
        "  Alternative_Hypothesis = \" are not independent with a significance level of 95%.\"\n",
        "  if pval<0.05:\n",
        "\n",
        "    print(f\"P_value = {pval}. The target variable Churn  and {col} {Alternative_Hypothesis}\")\n",
        "  else:\n",
        "    print(f\"P_value = {pval}. The target variable Churn  and {col} {Null_Hypothesis}\")\n",
        "  return cramers_stat(col= col)"
      ],
      "execution_count": null,
      "outputs": []
    },
    {
      "cell_type": "code",
      "metadata": {
        "colab": {
          "base_uri": "https://localhost:8080/"
        },
        "id": "lARrSBdq36jL",
        "outputId": "a38ff7f4-88f4-4e28-e18e-462d5233ed08"
      },
      "source": [
        "depedency(\"gender\")"
      ],
      "execution_count": null,
      "outputs": [
        {
          "output_type": "stream",
          "text": [
            "P_value = 0.48657873605618596. The target variable Churn  and gender  are independent with a significance level of 95%.\n",
            "Between churn and gender, the cramer's V is 0.01. The relationship is null or very weak.\n"
          ],
          "name": "stdout"
        }
      ]
    },
    {
      "cell_type": "markdown",
      "metadata": {
        "id": "R8cz1-pMTM0q"
      },
      "source": [
        "### <i>How big is churn compared to the existing customer base?"
      ]
    },
    {
      "cell_type": "code",
      "metadata": {
        "id": "PVHHxlnATM0r",
        "colab": {
          "base_uri": "https://localhost:8080/",
          "height": 514
        },
        "outputId": "fcdf7cac-5f83-4038-d3c9-cb84f4faac0f"
      },
      "source": [
        "#Let see the rate of Churned customer \n",
        "churn_count         = telco_data['Churn'].value_counts().to_frame()\n",
        "churn_count.columns =['Total']\n",
        "churn_rate          = telco_data['Churn'].value_counts(normalize=True).to_frame()\n",
        "churn_rate.columns  =['%']\n",
        "churn_data          =pd.concat([churn_count,churn_rate],axis=1)\n",
        "display(churn_data)\n",
        "\n",
        "plt.figure(figsize=(6,6))\n",
        "bar =sns.barplot(data=churn_data,x=churn_data.index,y=\"Total\")\n",
        "i = 0\n",
        "for tot,perc in zip(churn_data['Total'],churn_data['%']):\n",
        "        bar.text(i,\n",
        "                tot/2,\n",
        "                str(np.round(perc*100,2))+ \"%\",\n",
        "                fontdict=dict(color='White',fontsize=12,horizontalalignment=\"center\"))\n",
        "        bar.text(i,\n",
        "                tot+10,\n",
        "                str(tot),\n",
        "                fontdict=dict(color='blue',fontsize=12,horizontalalignment=\"center\"))\n",
        "\n",
        "        i+=1\n",
        "        plt.title(\"Churned Distribution\")\n",
        "        plt.legend()"
      ],
      "execution_count": null,
      "outputs": [
        {
          "output_type": "display_data",
          "data": {
            "text/html": [
              "<div>\n",
              "<style scoped>\n",
              "    .dataframe tbody tr th:only-of-type {\n",
              "        vertical-align: middle;\n",
              "    }\n",
              "\n",
              "    .dataframe tbody tr th {\n",
              "        vertical-align: top;\n",
              "    }\n",
              "\n",
              "    .dataframe thead th {\n",
              "        text-align: right;\n",
              "    }\n",
              "</style>\n",
              "<table border=\"1\" class=\"dataframe\">\n",
              "  <thead>\n",
              "    <tr style=\"text-align: right;\">\n",
              "      <th></th>\n",
              "      <th>Total</th>\n",
              "      <th>%</th>\n",
              "    </tr>\n",
              "  </thead>\n",
              "  <tbody>\n",
              "    <tr>\n",
              "      <th>No</th>\n",
              "      <td>5174</td>\n",
              "      <td>0.73463</td>\n",
              "    </tr>\n",
              "    <tr>\n",
              "      <th>Yes</th>\n",
              "      <td>1869</td>\n",
              "      <td>0.26537</td>\n",
              "    </tr>\n",
              "  </tbody>\n",
              "</table>\n",
              "</div>"
            ],
            "text/plain": [
              "     Total        %\n",
              "No    5174  0.73463\n",
              "Yes   1869  0.26537"
            ]
          },
          "metadata": {}
        },
        {
          "output_type": "stream",
          "text": [
            "No handles with labels found to put in legend.\n",
            "No handles with labels found to put in legend.\n"
          ],
          "name": "stderr"
        },
        {
          "output_type": "display_data",
          "data": {
            "image/png": "[encoded data removed]",
            "text/plain": [
              "<Figure size 432x432 with 1 Axes>"
            ]
          },
          "metadata": {}
        }
      ]
    },
    {
      "cell_type": "markdown",
      "metadata": {
        "id": "maG7SXleTM0s"
      },
      "source": [
        "<i> Compared to the existing customer base the churned customer represent 26.54 % of the population\n",
        "<p>Total number of customers who churned is 1869 while the number of remaining customer 5174 which represent 73.5% of the population."
      ]
    },
    {
      "cell_type": "markdown",
      "metadata": {
        "id": "P9wmHOG5TM0t"
      },
      "source": [
        "## Explain churn by the below categories. Are there any factors that combine to be especially impactful?\n",
        "\n"
      ]
    },
    {
      "cell_type": "code",
      "metadata": {
        "id": "lIn1_km7zPmE"
      },
      "source": [
        "Demographic_var = ['gender', 'SeniorCitizen', 'Partner', 'Dependents']\n",
        "phoneservices   = ['PhoneService', 'MultipleLines']\n",
        "internetservices = [ 'InternetService','OnlineBackup','TechSupport']\n",
        "securityservices = [ 'DeviceProtection', 'OnlineSecurity']\n",
        "streamingservices= ['StreamingTV', 'StreamingMovies']\n",
        "billinginfos = ['Contract', 'PaperlessBilling','PaymentMethod']\n",
        "charges=[ 'MonthlyCharges', 'TotalCharges']"
      ],
      "execution_count": null,
      "outputs": []
    },
    {
      "cell_type": "markdown",
      "metadata": {
        "id": "2t2vWjAhz2WD"
      },
      "source": [
        "# <i>Analysis Of Customer by Demographic Informations"
      ]
    },
    {
      "cell_type": "markdown",
      "metadata": {
        "id": "Y_VCOAENTM0t"
      },
      "source": [
        "## <i>Churned Customer by Gender"
      ]
    },
    {
      "cell_type": "code",
      "metadata": {
        "id": "VxxWdnUWTM0u",
        "colab": {
          "base_uri": "https://localhost:8080/",
          "height": 542
        },
        "outputId": "4bdcfc36-a3da-403e-fe95-f5047bdaeadf"
      },
      "source": [
        "#Pivot Table to visualize Churned Customer group by Gender\n",
        "table(data=telco_data,column='Churn',index='gender',value='customerID', aggf='count')"
      ],
      "execution_count": null,
      "outputs": [
        {
          "output_type": "stream",
          "text": [
            "No handles with labels found to put in legend.\n"
          ],
          "name": "stderr"
        },
        {
          "output_type": "execute_result",
          "data": {
            "text/html": [
              "<div>\n",
              "<style scoped>\n",
              "    .dataframe tbody tr th:only-of-type {\n",
              "        vertical-align: middle;\n",
              "    }\n",
              "\n",
              "    .dataframe tbody tr th {\n",
              "        vertical-align: top;\n",
              "    }\n",
              "\n",
              "    .dataframe thead th {\n",
              "        text-align: right;\n",
              "    }\n",
              "</style>\n",
              "<table border=\"1\" class=\"dataframe\">\n",
              "  <thead>\n",
              "    <tr style=\"text-align: right;\">\n",
              "      <th></th>\n",
              "      <th>Total</th>\n",
              "      <th>%</th>\n",
              "    </tr>\n",
              "    <tr>\n",
              "      <th>gender</th>\n",
              "      <th></th>\n",
              "      <th></th>\n",
              "    </tr>\n",
              "  </thead>\n",
              "  <tbody>\n",
              "    <tr>\n",
              "      <th>Female</th>\n",
              "      <td>939</td>\n",
              "      <td>0.502</td>\n",
              "    </tr>\n",
              "    <tr>\n",
              "      <th>Male</th>\n",
              "      <td>930</td>\n",
              "      <td>0.498</td>\n",
              "    </tr>\n",
              "  </tbody>\n",
              "</table>\n",
              "</div>"
            ],
            "text/plain": [
              "        Total      %\n",
              "gender              \n",
              "Female    939  0.502\n",
              "Male      930  0.498"
            ]
          },
          "metadata": {},
          "execution_count": 26
        },
        {
          "output_type": "display_data",
          "data": {
            "image/png": "[encoded data removed]",
            "text/plain": [
              "<Figure size 432x432 with 1 Axes>"
            ]
          },
          "metadata": {}
        }
      ]
    },
    {
      "cell_type": "markdown",
      "metadata": {
        "id": "KioFE5N8TM0u"
      },
      "source": [
        "### <i>Observations\n",
        "\n",
        "- The total number of Female customer who churn is 939, which represents 50.2% of the population.\n",
        "- The total number of Male customer who churn is 930, which represents 49.8% of the population."
      ]
    },
    {
      "cell_type": "code",
      "metadata": {
        "colab": {
          "base_uri": "https://localhost:8080/"
        },
        "id": "bN9hTZD3AWND",
        "outputId": "fe2fc721-72a6-4cdd-c8d3-3b08d97b4419"
      },
      "source": [
        "depedency('gender')"
      ],
      "execution_count": null,
      "outputs": [
        {
          "output_type": "stream",
          "text": [
            "P_value = 0.48657873605618596. The target variable Churn  and gender  are independent with a significance level of 95%.\n",
            "Between churn and gender, the cramer's V is 0.01. The relationship is null or very weak.\n"
          ],
          "name": "stdout"
        }
      ]
    },
    {
      "cell_type": "markdown",
      "metadata": {
        "id": "R0LjnO3jTM0v"
      },
      "source": [
        "## <i>Churned Customer by Age_Range(SeniorCitizen)"
      ]
    },
    {
      "cell_type": "code",
      "metadata": {
        "id": "Zm-1UiShTM0v",
        "colab": {
          "base_uri": "https://localhost:8080/",
          "height": 542
        },
        "outputId": "8fcd2381-6022-46c5-e1e6-30be1e37b738"
      },
      "source": [
        "table(data=telco_data,column='Churn',index='SeniorCitizen',value='customerID', aggf='count')"
      ],
      "execution_count": null,
      "outputs": [
        {
          "output_type": "stream",
          "text": [
            "No handles with labels found to put in legend.\n"
          ],
          "name": "stderr"
        },
        {
          "output_type": "execute_result",
          "data": {
            "text/html": [
              "<div>\n",
              "<style scoped>\n",
              "    .dataframe tbody tr th:only-of-type {\n",
              "        vertical-align: middle;\n",
              "    }\n",
              "\n",
              "    .dataframe tbody tr th {\n",
              "        vertical-align: top;\n",
              "    }\n",
              "\n",
              "    .dataframe thead th {\n",
              "        text-align: right;\n",
              "    }\n",
              "</style>\n",
              "<table border=\"1\" class=\"dataframe\">\n",
              "  <thead>\n",
              "    <tr style=\"text-align: right;\">\n",
              "      <th></th>\n",
              "      <th>Total</th>\n",
              "      <th>%</th>\n",
              "    </tr>\n",
              "    <tr>\n",
              "      <th>SeniorCitizen</th>\n",
              "      <th></th>\n",
              "      <th></th>\n",
              "    </tr>\n",
              "  </thead>\n",
              "  <tbody>\n",
              "    <tr>\n",
              "      <th>No</th>\n",
              "      <td>1393</td>\n",
              "      <td>0.745</td>\n",
              "    </tr>\n",
              "    <tr>\n",
              "      <th>Yes</th>\n",
              "      <td>476</td>\n",
              "      <td>0.255</td>\n",
              "    </tr>\n",
              "  </tbody>\n",
              "</table>\n",
              "</div>"
            ],
            "text/plain": [
              "               Total      %\n",
              "SeniorCitizen              \n",
              "No              1393  0.745\n",
              "Yes              476  0.255"
            ]
          },
          "metadata": {},
          "execution_count": 28
        },
        {
          "output_type": "display_data",
          "data": {
            "image/png": "[encoded data removed]",
            "text/plain": [
              "<Figure size 432x432 with 1 Axes>"
            ]
          },
          "metadata": {}
        }
      ]
    },
    {
      "cell_type": "markdown",
      "metadata": {
        "id": "9jh10c6ATM0v"
      },
      "source": [
        "### <i>Observations\n",
        "\n",
        "- The total number of Young customer who churned is 1393, which represents 74.5% of the population.\n",
        "- The total number of Senior customer who churned is 476, which represents 25.5% of the population."
      ]
    },
    {
      "cell_type": "code",
      "metadata": {
        "id": "wqwjTTwjCxPg",
        "colab": {
          "base_uri": "https://localhost:8080/"
        },
        "outputId": "a35b3bfa-8949-4920-a68d-e7249dc61790"
      },
      "source": [
        "depedency('SeniorCitizen')"
      ],
      "execution_count": null,
      "outputs": [
        {
          "output_type": "stream",
          "text": [
            "P_value = 1.510066805092378e-36. The target variable Churn  and SeniorCitizen  are not independent with a significance level of 95%.\n",
            "Between churn and SeniorCitizen, the cramer's V is 0.11. The relationship is weak.\n"
          ],
          "name": "stdout"
        }
      ]
    },
    {
      "cell_type": "markdown",
      "metadata": {
        "id": "N3CdM4FaTM0w"
      },
      "source": [
        "## <i>Churned Customer who (do or do not) have a Partner"
      ]
    },
    {
      "cell_type": "code",
      "metadata": {
        "id": "zJWbXbTyTM0x",
        "colab": {
          "base_uri": "https://localhost:8080/"
        },
        "outputId": "28fc1fb5-0258-4c80-cb68-9ff2218f4579"
      },
      "source": [
        "table(data=telco_data,column='Churn',index='Partner',value='customerID', aggf='count')"
      ],
      "execution_count": null,
      "outputs": [
        {
          "output_type": "stream",
          "text": [
            "No handles with labels found to put in legend.\n"
          ],
          "name": "stderr"
        },
        {
          "output_type": "execute_result",
          "data": {
            "text/html": [
              "<div>\n",
              "<style scoped>\n",
              "    .dataframe tbody tr th:only-of-type {\n",
              "        vertical-align: middle;\n",
              "    }\n",
              "\n",
              "    .dataframe tbody tr th {\n",
              "        vertical-align: top;\n",
              "    }\n",
              "\n",
              "    .dataframe thead th {\n",
              "        text-align: right;\n",
              "    }\n",
              "</style>\n",
              "<table border=\"1\" class=\"dataframe\">\n",
              "  <thead>\n",
              "    <tr style=\"text-align: right;\">\n",
              "      <th></th>\n",
              "      <th>Total</th>\n",
              "      <th>%</th>\n",
              "    </tr>\n",
              "    <tr>\n",
              "      <th>Partner</th>\n",
              "      <th></th>\n",
              "      <th></th>\n",
              "    </tr>\n",
              "  </thead>\n",
              "  <tbody>\n",
              "    <tr>\n",
              "      <th>No</th>\n",
              "      <td>1200</td>\n",
              "      <td>0.642</td>\n",
              "    </tr>\n",
              "    <tr>\n",
              "      <th>Yes</th>\n",
              "      <td>669</td>\n",
              "      <td>0.358</td>\n",
              "    </tr>\n",
              "  </tbody>\n",
              "</table>\n",
              "</div>"
            ],
            "text/plain": [
              "         Total      %\n",
              "Partner              \n",
              "No        1200  0.642\n",
              "Yes        669  0.358"
            ]
          },
          "metadata": {},
          "execution_count": 30
        },
        {
          "output_type": "display_data",
          "data": {
            "image/png": "[encoded data removed]",
            "text/plain": [
              "<Figure size 432x432 with 1 Axes>"
            ]
          },
          "metadata": {}
        }
      ]
    },
    {
      "cell_type": "markdown",
      "metadata": {
        "id": "dekaqmlDTM0x"
      },
      "source": [
        "### <i>Observations\n",
        "\n",
        "- The total number of Customer who don't have a partner and churned are 1200, which represents 64.2% of the population.\n",
        "- The total number of Customer who do have a partner and churned are 669, which represents 35.8% of the population."
      ]
    },
    {
      "cell_type": "code",
      "metadata": {
        "colab": {
          "base_uri": "https://localhost:8080/"
        },
        "id": "xaW0QPLnC3bm",
        "outputId": "03cfd23c-890d-4bc3-c60b-98ab158ca9f1"
      },
      "source": [
        "depedency('Partner')"
      ],
      "execution_count": null,
      "outputs": [
        {
          "output_type": "stream",
          "text": [
            "P_value = 2.1399113440759935e-36. The target variable Churn  and Partner  are not independent with a significance level of 95%.\n",
            "Between churn and Partner, the cramer's V is 0.11. The relationship is weak.\n"
          ],
          "name": "stdout"
        }
      ]
    },
    {
      "cell_type": "markdown",
      "metadata": {
        "id": "QACbt-wITM0y"
      },
      "source": [
        "## <i>Churned Customer who (do or do not) have Dependents"
      ]
    },
    {
      "cell_type": "code",
      "metadata": {
        "id": "B1Wvnhp-TM0z",
        "colab": {
          "base_uri": "https://localhost:8080/"
        },
        "outputId": "1ffb245d-7ad7-4276-d4a2-3857b43d9a36"
      },
      "source": [
        "table(data=telco_data,column='Churn',index='Dependents',value='customerID', aggf='count')"
      ],
      "execution_count": null,
      "outputs": [
        {
          "output_type": "stream",
          "text": [
            "No handles with labels found to put in legend.\n"
          ],
          "name": "stderr"
        },
        {
          "output_type": "execute_result",
          "data": {
            "text/html": [
              "<div>\n",
              "<style scoped>\n",
              "    .dataframe tbody tr th:only-of-type {\n",
              "        vertical-align: middle;\n",
              "    }\n",
              "\n",
              "    .dataframe tbody tr th {\n",
              "        vertical-align: top;\n",
              "    }\n",
              "\n",
              "    .dataframe thead th {\n",
              "        text-align: right;\n",
              "    }\n",
              "</style>\n",
              "<table border=\"1\" class=\"dataframe\">\n",
              "  <thead>\n",
              "    <tr style=\"text-align: right;\">\n",
              "      <th></th>\n",
              "      <th>Total</th>\n",
              "      <th>%</th>\n",
              "    </tr>\n",
              "    <tr>\n",
              "      <th>Dependents</th>\n",
              "      <th></th>\n",
              "      <th></th>\n",
              "    </tr>\n",
              "  </thead>\n",
              "  <tbody>\n",
              "    <tr>\n",
              "      <th>No</th>\n",
              "      <td>1543</td>\n",
              "      <td>0.826</td>\n",
              "    </tr>\n",
              "    <tr>\n",
              "      <th>Yes</th>\n",
              "      <td>326</td>\n",
              "      <td>0.174</td>\n",
              "    </tr>\n",
              "  </tbody>\n",
              "</table>\n",
              "</div>"
            ],
            "text/plain": [
              "            Total      %\n",
              "Dependents              \n",
              "No           1543  0.826\n",
              "Yes           326  0.174"
            ]
          },
          "metadata": {},
          "execution_count": 32
        },
        {
          "output_type": "display_data",
          "data": {
            "image/png": "[encoded data removed]",
            "text/plain": [
              "<Figure size 432x432 with 1 Axes>"
            ]
          },
          "metadata": {}
        }
      ]
    },
    {
      "cell_type": "markdown",
      "metadata": {
        "id": "Pdm-_GzvTM00"
      },
      "source": [
        "### <i>Observations\n",
        "\n",
        "- The total number of Customer who don't have Dependents and churned are 1543, which represents 82.6% of the population.\n",
        "- The total number of Customer who do have Dependents and churned are 326, which represents 17.4% of the population."
      ]
    },
    {
      "cell_type": "code",
      "metadata": {
        "colab": {
          "base_uri": "https://localhost:8080/"
        },
        "id": "t1d4v_p7Hvdw",
        "outputId": "dbdc87b9-978b-4bde-a166-71ec1613b8ca"
      },
      "source": [
        "depedency(\"Dependents\")"
      ],
      "execution_count": null,
      "outputs": [
        {
          "output_type": "stream",
          "text": [
            "P_value = 4.9249216612154196e-43. The target variable Churn  and Dependents  are not independent with a significance level of 95%.\n",
            "Between churn and Dependents, the cramer's V is 0.12. The relationship is weak.\n"
          ],
          "name": "stdout"
        }
      ]
    },
    {
      "cell_type": "markdown",
      "metadata": {
        "id": "S2C5dT3ViCRe"
      },
      "source": [
        ""
      ]
    },
    {
      "cell_type": "code",
      "metadata": {
        "id": "ZHHBSHxCTM00",
        "colab": {
          "base_uri": "https://localhost:8080/"
        },
        "outputId": "31452a98-a095-45fd-b086-10d8cd159f58"
      },
      "source": [
        "#Creation of a table to visualize at which level these variables affect the level of the churned customer.\n",
        "churn_demographic=telco_data[telco_data['Churn']=='Yes'].pivot_table(columns='Churn',index= Demographic_var[1:], values='customerID', aggfunc='count')\n",
        "churn_demographic[\"%\"] = churn_demographic[\"Yes\"].apply(lambda x: x/telco_data[telco_data['Churn']=='Yes'].shape[0])\n",
        "churn_demographic"
      ],
      "execution_count": null,
      "outputs": [
        {
          "output_type": "execute_result",
          "data": {
            "text/html": [
              "<div>\n",
              "<style scoped>\n",
              "    .dataframe tbody tr th:only-of-type {\n",
              "        vertical-align: middle;\n",
              "    }\n",
              "\n",
              "    .dataframe tbody tr th {\n",
              "        vertical-align: top;\n",
              "    }\n",
              "\n",
              "    .dataframe thead th {\n",
              "        text-align: right;\n",
              "    }\n",
              "</style>\n",
              "<table border=\"1\" class=\"dataframe\">\n",
              "  <thead>\n",
              "    <tr style=\"text-align: right;\">\n",
              "      <th></th>\n",
              "      <th></th>\n",
              "      <th>Churn</th>\n",
              "      <th>Yes</th>\n",
              "      <th>%</th>\n",
              "    </tr>\n",
              "    <tr>\n",
              "      <th>SeniorCitizen</th>\n",
              "      <th>Partner</th>\n",
              "      <th>Dependents</th>\n",
              "      <th></th>\n",
              "      <th></th>\n",
              "    </tr>\n",
              "  </thead>\n",
              "  <tbody>\n",
              "    <tr>\n",
              "      <th rowspan=\"4\" valign=\"top\">No</th>\n",
              "      <th rowspan=\"2\" valign=\"top\">No</th>\n",
              "      <th>No</th>\n",
              "      <td>847</td>\n",
              "      <td>0.453184</td>\n",
              "    </tr>\n",
              "    <tr>\n",
              "      <th>Yes</th>\n",
              "      <td>75</td>\n",
              "      <td>0.040128</td>\n",
              "    </tr>\n",
              "    <tr>\n",
              "      <th rowspan=\"2\" valign=\"top\">Yes</th>\n",
              "      <th>No</th>\n",
              "      <td>242</td>\n",
              "      <td>0.129481</td>\n",
              "    </tr>\n",
              "    <tr>\n",
              "      <th>Yes</th>\n",
              "      <td>229</td>\n",
              "      <td>0.122525</td>\n",
              "    </tr>\n",
              "    <tr>\n",
              "      <th rowspan=\"4\" valign=\"top\">Yes</th>\n",
              "      <th rowspan=\"2\" valign=\"top\">No</th>\n",
              "      <th>No</th>\n",
              "      <td>276</td>\n",
              "      <td>0.147673</td>\n",
              "    </tr>\n",
              "    <tr>\n",
              "      <th>Yes</th>\n",
              "      <td>2</td>\n",
              "      <td>0.001070</td>\n",
              "    </tr>\n",
              "    <tr>\n",
              "      <th rowspan=\"2\" valign=\"top\">Yes</th>\n",
              "      <th>No</th>\n",
              "      <td>178</td>\n",
              "      <td>0.095238</td>\n",
              "    </tr>\n",
              "    <tr>\n",
              "      <th>Yes</th>\n",
              "      <td>20</td>\n",
              "      <td>0.010701</td>\n",
              "    </tr>\n",
              "  </tbody>\n",
              "</table>\n",
              "</div>"
            ],
            "text/plain": [
              "Churn                             Yes         %\n",
              "SeniorCitizen Partner Dependents               \n",
              "No            No      No          847  0.453184\n",
              "                      Yes          75  0.040128\n",
              "              Yes     No          242  0.129481\n",
              "                      Yes         229  0.122525\n",
              "Yes           No      No          276  0.147673\n",
              "                      Yes           2  0.001070\n",
              "              Yes     No          178  0.095238\n",
              "                      Yes          20  0.010701"
            ]
          },
          "metadata": {},
          "execution_count": 34
        }
      ]
    },
    {
      "cell_type": "markdown",
      "metadata": {
        "id": "nb_xN_mKh3na"
      },
      "source": [
        "## <i>Final Observations for Demographic Variables</i>\n",
        "- Using the chi-square test on the demographic variables, we were able to identify the variables that affect the level of churn, namely: SeniorCitizen, Partner, and Dependents.\n",
        "- Combining these three variables, we see that <b>young clients</b> with <b>single status</b> and <b>no dependents</b> represent 45.31% of the churned customer with a total of 847."
      ]
    },
    {
      "cell_type": "markdown",
      "metadata": {
        "id": "gKylLDlmTM01"
      },
      "source": [
        "# <i>Analysis Of Customer by Services Used \n",
        "\n",
        "## <i>Churned Customer By Phone Service"
      ]
    },
    {
      "cell_type": "code",
      "metadata": {
        "id": "RuvSbYGnTM01",
        "colab": {
          "base_uri": "https://localhost:8080/",
          "height": 542
        },
        "outputId": "5cf432e6-37e9-4d9e-a7e9-bdc6d5c1aad3"
      },
      "source": [
        "table(data=telco_data,column='Churn',index='PhoneService',value='customerID', aggf='count')"
      ],
      "execution_count": null,
      "outputs": [
        {
          "output_type": "stream",
          "text": [
            "No handles with labels found to put in legend.\n"
          ],
          "name": "stderr"
        },
        {
          "output_type": "execute_result",
          "data": {
            "text/html": [
              "<div>\n",
              "<style scoped>\n",
              "    .dataframe tbody tr th:only-of-type {\n",
              "        vertical-align: middle;\n",
              "    }\n",
              "\n",
              "    .dataframe tbody tr th {\n",
              "        vertical-align: top;\n",
              "    }\n",
              "\n",
              "    .dataframe thead th {\n",
              "        text-align: right;\n",
              "    }\n",
              "</style>\n",
              "<table border=\"1\" class=\"dataframe\">\n",
              "  <thead>\n",
              "    <tr style=\"text-align: right;\">\n",
              "      <th></th>\n",
              "      <th>Total</th>\n",
              "      <th>%</th>\n",
              "    </tr>\n",
              "    <tr>\n",
              "      <th>PhoneService</th>\n",
              "      <th></th>\n",
              "      <th></th>\n",
              "    </tr>\n",
              "  </thead>\n",
              "  <tbody>\n",
              "    <tr>\n",
              "      <th>No</th>\n",
              "      <td>170</td>\n",
              "      <td>0.091</td>\n",
              "    </tr>\n",
              "    <tr>\n",
              "      <th>Yes</th>\n",
              "      <td>1699</td>\n",
              "      <td>0.909</td>\n",
              "    </tr>\n",
              "  </tbody>\n",
              "</table>\n",
              "</div>"
            ],
            "text/plain": [
              "              Total      %\n",
              "PhoneService              \n",
              "No              170  0.091\n",
              "Yes            1699  0.909"
            ]
          },
          "metadata": {},
          "execution_count": 35
        },
        {
          "output_type": "display_data",
          "data": {
            "image/png": "[encoded data removed]",
            "text/plain": [
              "<Figure size 432x432 with 1 Axes>"
            ]
          },
          "metadata": {}
        }
      ]
    },
    {
      "cell_type": "markdown",
      "metadata": {
        "id": "-Owp7KRzTM02"
      },
      "source": [
        "### <i>Observations\n",
        "\n",
        "- The total number of Customer who don't use PhoneService and churned are 170, which represents 9.1% of the churned population.\n",
        "- The total number of Customer who use PhoneService and churned are 1699, which represents 90.9% of the churned population."
      ]
    },
    {
      "cell_type": "code",
      "metadata": {
        "colab": {
          "base_uri": "https://localhost:8080/"
        },
        "id": "IzmyHIZKJe4e",
        "outputId": "22c4f621-9a8c-42c1-d99f-8c2351e721e1"
      },
      "source": [
        "depedency(\"PhoneService\")"
      ],
      "execution_count": null,
      "outputs": [
        {
          "output_type": "stream",
          "text": [
            "P_value = 0.3387825358066928. The target variable Churn  and PhoneService  are independent with a significance level of 95%.\n",
            "Between churn and PhoneService, the cramer's V is 0.01. The relationship is null or very weak.\n"
          ],
          "name": "stdout"
        }
      ]
    },
    {
      "cell_type": "markdown",
      "metadata": {
        "id": "oBDKuGvnTM02"
      },
      "source": [
        "## <i>Churned Customer By MultipleLines"
      ]
    },
    {
      "cell_type": "code",
      "metadata": {
        "id": "T7x5QT2WTM03",
        "colab": {
          "base_uri": "https://localhost:8080/",
          "height": 573
        },
        "outputId": "95d5ce34-e76b-45db-cf43-ac329cdd20ca"
      },
      "source": [
        "table(data=telco_data,column='Churn',index='MultipleLines',value='customerID', aggf='count')"
      ],
      "execution_count": null,
      "outputs": [
        {
          "output_type": "stream",
          "text": [
            "No handles with labels found to put in legend.\n"
          ],
          "name": "stderr"
        },
        {
          "output_type": "execute_result",
          "data": {
            "text/html": [
              "<div>\n",
              "<style scoped>\n",
              "    .dataframe tbody tr th:only-of-type {\n",
              "        vertical-align: middle;\n",
              "    }\n",
              "\n",
              "    .dataframe tbody tr th {\n",
              "        vertical-align: top;\n",
              "    }\n",
              "\n",
              "    .dataframe thead th {\n",
              "        text-align: right;\n",
              "    }\n",
              "</style>\n",
              "<table border=\"1\" class=\"dataframe\">\n",
              "  <thead>\n",
              "    <tr style=\"text-align: right;\">\n",
              "      <th></th>\n",
              "      <th>Total</th>\n",
              "      <th>%</th>\n",
              "    </tr>\n",
              "    <tr>\n",
              "      <th>MultipleLines</th>\n",
              "      <th></th>\n",
              "      <th></th>\n",
              "    </tr>\n",
              "  </thead>\n",
              "  <tbody>\n",
              "    <tr>\n",
              "      <th>No</th>\n",
              "      <td>849</td>\n",
              "      <td>0.454</td>\n",
              "    </tr>\n",
              "    <tr>\n",
              "      <th>No phone service</th>\n",
              "      <td>170</td>\n",
              "      <td>0.091</td>\n",
              "    </tr>\n",
              "    <tr>\n",
              "      <th>Yes</th>\n",
              "      <td>850</td>\n",
              "      <td>0.455</td>\n",
              "    </tr>\n",
              "  </tbody>\n",
              "</table>\n",
              "</div>"
            ],
            "text/plain": [
              "                  Total      %\n",
              "MultipleLines                 \n",
              "No                  849  0.454\n",
              "No phone service    170  0.091\n",
              "Yes                 850  0.455"
            ]
          },
          "metadata": {},
          "execution_count": 37
        },
        {
          "output_type": "display_data",
          "data": {
            "image/png": "[encoded data removed]",
            "text/plain": [
              "<Figure size 432x432 with 1 Axes>"
            ]
          },
          "metadata": {}
        }
      ]
    },
    {
      "cell_type": "markdown",
      "metadata": {
        "id": "Trdhaj3uTM03"
      },
      "source": [
        "### <i>Observations\n",
        "\n",
        "- The total number of Customer who don't use MultipleLines and churned are 849, which represents 45.4% of the churned population.\n",
        "- The total number of Customer who use MultipleLines and churned are 850, which represents 45.5% of the churned population."
      ]
    },
    {
      "cell_type": "code",
      "metadata": {
        "colab": {
          "base_uri": "https://localhost:8080/"
        },
        "id": "Jmv_2T0lJnhu",
        "outputId": "1dfa5f9e-44e7-486f-a7d1-41b20af3a9fe"
      },
      "source": [
        "depedency(\"MultipleLines\")"
      ],
      "execution_count": null,
      "outputs": [
        {
          "output_type": "stream",
          "text": [
            "P_value = 0.0034643829548773. The target variable Churn  and MultipleLines  are not independent with a significance level of 95%.\n",
            "Between churn and MultipleLines, the cramer's V is 0.03. The relationship is null or very weak.\n"
          ],
          "name": "stdout"
        }
      ]
    },
    {
      "cell_type": "code",
      "metadata": {
        "id": "HepSHgdfTM1B",
        "colab": {
          "base_uri": "https://localhost:8080/",
          "height": 173
        },
        "outputId": "44c1d3f1-3a7f-46c0-d654-4d6ce37013e8"
      },
      "source": [
        "#Creation of a table to visualize at which level these variables affect the level of the churned customer.\n",
        "churn_phoneservice=telco_data[telco_data['Churn']=='Yes'].pivot_table(index='MultipleLines',columns='Churn', values='customerID', aggfunc='count')\n",
        "churn_phoneservice[\"%\"] = churn_phoneservice[\"Yes\"].apply(lambda x: x/telco_data[telco_data['Churn']=='Yes'].shape[0])\n",
        "churn_phoneservice"
      ],
      "execution_count": null,
      "outputs": [
        {
          "output_type": "execute_result",
          "data": {
            "text/html": [
              "<div>\n",
              "<style scoped>\n",
              "    .dataframe tbody tr th:only-of-type {\n",
              "        vertical-align: middle;\n",
              "    }\n",
              "\n",
              "    .dataframe tbody tr th {\n",
              "        vertical-align: top;\n",
              "    }\n",
              "\n",
              "    .dataframe thead th {\n",
              "        text-align: right;\n",
              "    }\n",
              "</style>\n",
              "<table border=\"1\" class=\"dataframe\">\n",
              "  <thead>\n",
              "    <tr style=\"text-align: right;\">\n",
              "      <th>Churn</th>\n",
              "      <th>Yes</th>\n",
              "      <th>%</th>\n",
              "    </tr>\n",
              "    <tr>\n",
              "      <th>MultipleLines</th>\n",
              "      <th></th>\n",
              "      <th></th>\n",
              "    </tr>\n",
              "  </thead>\n",
              "  <tbody>\n",
              "    <tr>\n",
              "      <th>No</th>\n",
              "      <td>849</td>\n",
              "      <td>0.454254</td>\n",
              "    </tr>\n",
              "    <tr>\n",
              "      <th>No phone service</th>\n",
              "      <td>170</td>\n",
              "      <td>0.090958</td>\n",
              "    </tr>\n",
              "    <tr>\n",
              "      <th>Yes</th>\n",
              "      <td>850</td>\n",
              "      <td>0.454789</td>\n",
              "    </tr>\n",
              "  </tbody>\n",
              "</table>\n",
              "</div>"
            ],
            "text/plain": [
              "Churn             Yes         %\n",
              "MultipleLines                  \n",
              "No                849  0.454254\n",
              "No phone service  170  0.090958\n",
              "Yes               850  0.454789"
            ]
          },
          "metadata": {},
          "execution_count": 39
        }
      ]
    },
    {
      "cell_type": "markdown",
      "metadata": {
        "id": "L9wxUDb7IZVq"
      },
      "source": [
        "## <i>Final Observations for Phone Services Variables</i>\n",
        "- Using the chi-square test on the variable related to phone services, we were able to identify that Customers who are using MultipleLines service are more likely to tend.\n",
        "- The churned Customer who are using MultipleLines Service represents 45.47% of the total of Churned Customer with a total of 850."
      ]
    },
    {
      "cell_type": "markdown",
      "metadata": {
        "id": "ulqNi6BiTM03"
      },
      "source": [
        "## <i>Churned Customer By InternetService"
      ]
    },
    {
      "cell_type": "code",
      "metadata": {
        "id": "Ln9BJh6FTM04",
        "colab": {
          "base_uri": "https://localhost:8080/",
          "height": 573
        },
        "outputId": "b39d80a2-17be-4be0-d31b-68d9111866c4"
      },
      "source": [
        "table(data=telco_data,column='Churn',index='InternetService',value='customerID', aggf='count')"
      ],
      "execution_count": null,
      "outputs": [
        {
          "output_type": "stream",
          "text": [
            "No handles with labels found to put in legend.\n"
          ],
          "name": "stderr"
        },
        {
          "output_type": "execute_result",
          "data": {
            "text/html": [
              "<div>\n",
              "<style scoped>\n",
              "    .dataframe tbody tr th:only-of-type {\n",
              "        vertical-align: middle;\n",
              "    }\n",
              "\n",
              "    .dataframe tbody tr th {\n",
              "        vertical-align: top;\n",
              "    }\n",
              "\n",
              "    .dataframe thead th {\n",
              "        text-align: right;\n",
              "    }\n",
              "</style>\n",
              "<table border=\"1\" class=\"dataframe\">\n",
              "  <thead>\n",
              "    <tr style=\"text-align: right;\">\n",
              "      <th></th>\n",
              "      <th>Total</th>\n",
              "      <th>%</th>\n",
              "    </tr>\n",
              "    <tr>\n",
              "      <th>InternetService</th>\n",
              "      <th></th>\n",
              "      <th></th>\n",
              "    </tr>\n",
              "  </thead>\n",
              "  <tbody>\n",
              "    <tr>\n",
              "      <th>DSL</th>\n",
              "      <td>459</td>\n",
              "      <td>0.246</td>\n",
              "    </tr>\n",
              "    <tr>\n",
              "      <th>Fiber optic</th>\n",
              "      <td>1297</td>\n",
              "      <td>0.694</td>\n",
              "    </tr>\n",
              "    <tr>\n",
              "      <th>No</th>\n",
              "      <td>113</td>\n",
              "      <td>0.060</td>\n",
              "    </tr>\n",
              "  </tbody>\n",
              "</table>\n",
              "</div>"
            ],
            "text/plain": [
              "                 Total      %\n",
              "InternetService              \n",
              "DSL                459  0.246\n",
              "Fiber optic       1297  0.694\n",
              "No                 113  0.060"
            ]
          },
          "metadata": {},
          "execution_count": 40
        },
        {
          "output_type": "display_data",
          "data": {
            "image/png": "[encoded data removed]",
            "text/plain": [
              "<Figure size 432x432 with 1 Axes>"
            ]
          },
          "metadata": {}
        }
      ]
    },
    {
      "cell_type": "markdown",
      "metadata": {
        "id": "xARcvdohTM04"
      },
      "source": [
        "### <i>Observations\n",
        "\n",
        "- The total number of Customer who don't use InternetService and churned are 113, which represents 6% of the churned population.\n",
        "- The total number of Customer who use Fiber Optic and churned are 1297, which represents 69.4% of the churned population.\n",
        "- The total number of Customer who use DSL(Digital Subscriber Line) and churned are 459, which represents 24.6% of the churned population."
      ]
    },
    {
      "cell_type": "code",
      "metadata": {
        "colab": {
          "base_uri": "https://localhost:8080/"
        },
        "id": "BIAz6U5aJuIP",
        "outputId": "85c9ca95-1900-4f30-820c-f2839054c283"
      },
      "source": [
        "depedency(\"InternetService\")"
      ],
      "execution_count": null,
      "outputs": [
        {
          "output_type": "stream",
          "text": [
            "P_value = 9.571788222840544e-160. The target variable Churn  and InternetService  are not independent with a significance level of 95%.\n",
            "Between churn and InternetService, the cramer's V is 0.23. The relationship is moderate.\n"
          ],
          "name": "stdout"
        }
      ]
    },
    {
      "cell_type": "markdown",
      "metadata": {
        "id": "4UVtBcu9TM05"
      },
      "source": [
        "## <i>Churned Customer By OnlineSecurity"
      ]
    },
    {
      "cell_type": "code",
      "metadata": {
        "id": "-SWN2zJoTM05",
        "colab": {
          "base_uri": "https://localhost:8080/",
          "height": 573
        },
        "outputId": "148ea77b-9b13-432c-e405-9001b815f485"
      },
      "source": [
        "table(data=telco_data,column='Churn',index='OnlineSecurity',value='customerID', aggf='count')"
      ],
      "execution_count": null,
      "outputs": [
        {
          "output_type": "stream",
          "text": [
            "No handles with labels found to put in legend.\n"
          ],
          "name": "stderr"
        },
        {
          "output_type": "execute_result",
          "data": {
            "text/html": [
              "<div>\n",
              "<style scoped>\n",
              "    .dataframe tbody tr th:only-of-type {\n",
              "        vertical-align: middle;\n",
              "    }\n",
              "\n",
              "    .dataframe tbody tr th {\n",
              "        vertical-align: top;\n",
              "    }\n",
              "\n",
              "    .dataframe thead th {\n",
              "        text-align: right;\n",
              "    }\n",
              "</style>\n",
              "<table border=\"1\" class=\"dataframe\">\n",
              "  <thead>\n",
              "    <tr style=\"text-align: right;\">\n",
              "      <th></th>\n",
              "      <th>Total</th>\n",
              "      <th>%</th>\n",
              "    </tr>\n",
              "    <tr>\n",
              "      <th>OnlineSecurity</th>\n",
              "      <th></th>\n",
              "      <th></th>\n",
              "    </tr>\n",
              "  </thead>\n",
              "  <tbody>\n",
              "    <tr>\n",
              "      <th>No</th>\n",
              "      <td>1461</td>\n",
              "      <td>0.782</td>\n",
              "    </tr>\n",
              "    <tr>\n",
              "      <th>No internet service</th>\n",
              "      <td>113</td>\n",
              "      <td>0.060</td>\n",
              "    </tr>\n",
              "    <tr>\n",
              "      <th>Yes</th>\n",
              "      <td>295</td>\n",
              "      <td>0.158</td>\n",
              "    </tr>\n",
              "  </tbody>\n",
              "</table>\n",
              "</div>"
            ],
            "text/plain": [
              "                     Total      %\n",
              "OnlineSecurity                   \n",
              "No                    1461  0.782\n",
              "No internet service    113  0.060\n",
              "Yes                    295  0.158"
            ]
          },
          "metadata": {},
          "execution_count": 42
        },
        {
          "output_type": "display_data",
          "data": {
            "image/png": "[encoded data removed]",
            "text/plain": [
              "<Figure size 432x432 with 1 Axes>"
            ]
          },
          "metadata": {}
        }
      ]
    },
    {
      "cell_type": "markdown",
      "metadata": {
        "id": "MyoN6N7mTM05"
      },
      "source": [
        "### <i>Observations\n",
        "\n",
        "- The total number of Customer who don't use OnlineSecurity and churned are 1461, which represents 78.2% of the churned population.\n",
        "- The total number of Customer who use OnlineSecurity and churned are 295, which represents 15.8% of the churned population.\n"
      ]
    },
    {
      "cell_type": "code",
      "metadata": {
        "colab": {
          "base_uri": "https://localhost:8080/"
        },
        "id": "f59t_aoHJ0OP",
        "outputId": "7cff03ba-6256-4b26-87b7-d568e046337e"
      },
      "source": [
        "depedency(\"OnlineSecurity\")"
      ],
      "execution_count": null,
      "outputs": [
        {
          "output_type": "stream",
          "text": [
            "P_value = 2.661149635176552e-185. The target variable Churn  and OnlineSecurity  are not independent with a significance level of 95%.\n",
            "Between churn and OnlineSecurity, the cramer's V is 0.25. The relationship is moderate.\n"
          ],
          "name": "stdout"
        }
      ]
    },
    {
      "cell_type": "markdown",
      "metadata": {
        "id": "_F3isaf1TM06"
      },
      "source": [
        "## <i>Churned Customer By OnlineBackup"
      ]
    },
    {
      "cell_type": "code",
      "metadata": {
        "id": "ih-ncMbATM06",
        "colab": {
          "base_uri": "https://localhost:8080/",
          "height": 573
        },
        "outputId": "fad9c7bc-e8aa-43f2-e790-493d8fc1e108"
      },
      "source": [
        "table(data=telco_data,column='Churn',index='OnlineBackup',value='customerID', aggf='count')"
      ],
      "execution_count": null,
      "outputs": [
        {
          "output_type": "stream",
          "text": [
            "No handles with labels found to put in legend.\n"
          ],
          "name": "stderr"
        },
        {
          "output_type": "execute_result",
          "data": {
            "text/html": [
              "<div>\n",
              "<style scoped>\n",
              "    .dataframe tbody tr th:only-of-type {\n",
              "        vertical-align: middle;\n",
              "    }\n",
              "\n",
              "    .dataframe tbody tr th {\n",
              "        vertical-align: top;\n",
              "    }\n",
              "\n",
              "    .dataframe thead th {\n",
              "        text-align: right;\n",
              "    }\n",
              "</style>\n",
              "<table border=\"1\" class=\"dataframe\">\n",
              "  <thead>\n",
              "    <tr style=\"text-align: right;\">\n",
              "      <th></th>\n",
              "      <th>Total</th>\n",
              "      <th>%</th>\n",
              "    </tr>\n",
              "    <tr>\n",
              "      <th>OnlineBackup</th>\n",
              "      <th></th>\n",
              "      <th></th>\n",
              "    </tr>\n",
              "  </thead>\n",
              "  <tbody>\n",
              "    <tr>\n",
              "      <th>No</th>\n",
              "      <td>1233</td>\n",
              "      <td>0.66</td>\n",
              "    </tr>\n",
              "    <tr>\n",
              "      <th>No internet service</th>\n",
              "      <td>113</td>\n",
              "      <td>0.06</td>\n",
              "    </tr>\n",
              "    <tr>\n",
              "      <th>Yes</th>\n",
              "      <td>523</td>\n",
              "      <td>0.28</td>\n",
              "    </tr>\n",
              "  </tbody>\n",
              "</table>\n",
              "</div>"
            ],
            "text/plain": [
              "                     Total     %\n",
              "OnlineBackup                    \n",
              "No                    1233  0.66\n",
              "No internet service    113  0.06\n",
              "Yes                    523  0.28"
            ]
          },
          "metadata": {},
          "execution_count": 44
        },
        {
          "output_type": "display_data",
          "data": {
            "image/png": "[encoded data removed]",
            "text/plain": [
              "<Figure size 432x432 with 1 Axes>"
            ]
          },
          "metadata": {}
        }
      ]
    },
    {
      "cell_type": "markdown",
      "metadata": {
        "id": "rnLw4bNWTM07"
      },
      "source": [
        "### <i>Observations\n",
        "\n",
        "- The total number of Customer who don't use Online Backup and churned are 1233, which represents 66% of the churned population.\n",
        "- The total number of Customer who use Online Backup and churned are 523, which represents 28% of the churned population."
      ]
    },
    {
      "cell_type": "code",
      "metadata": {
        "colab": {
          "base_uri": "https://localhost:8080/"
        },
        "id": "DqiXfE_XJ483",
        "outputId": "4a347a71-9b36-429a-cbb1-b7ec581a448d"
      },
      "source": [
        "depedency(\"OnlineBackup\")"
      ],
      "execution_count": null,
      "outputs": [
        {
          "output_type": "stream",
          "text": [
            "P_value = 2.0797592160864276e-131. The target variable Churn  and OnlineBackup  are not independent with a significance level of 95%.\n",
            "Between churn and OnlineBackup, the cramer's V is 0.21. The relationship is moderate.\n"
          ],
          "name": "stdout"
        }
      ]
    },
    {
      "cell_type": "code",
      "metadata": {
        "colab": {
          "base_uri": "https://localhost:8080/",
          "height": 359
        },
        "id": "kLfOzHzJoxaN",
        "outputId": "8910abeb-edaa-4933-9fe9-146ea0970777"
      },
      "source": [
        "#Creation of a table to visualize at which level these variables affect the level of the churned customer.\n",
        "churn_internetservices=telco_data[telco_data['Churn']=='Yes'].pivot_table(index=['InternetService','OnlineSecurity','OnlineBackup'],columns='Churn', values='customerID', aggfunc='count')\n",
        "churn_internetservices[\"%\"] = churn_internetservices[\"Yes\"].apply(lambda x: x/telco_data[telco_data['Churn']=='Yes'].shape[0])\n",
        "churn_internetservices"
      ],
      "execution_count": null,
      "outputs": [
        {
          "output_type": "execute_result",
          "data": {
            "text/html": [
              "<div>\n",
              "<style scoped>\n",
              "    .dataframe tbody tr th:only-of-type {\n",
              "        vertical-align: middle;\n",
              "    }\n",
              "\n",
              "    .dataframe tbody tr th {\n",
              "        vertical-align: top;\n",
              "    }\n",
              "\n",
              "    .dataframe thead th {\n",
              "        text-align: right;\n",
              "    }\n",
              "</style>\n",
              "<table border=\"1\" class=\"dataframe\">\n",
              "  <thead>\n",
              "    <tr style=\"text-align: right;\">\n",
              "      <th></th>\n",
              "      <th></th>\n",
              "      <th>Churn</th>\n",
              "      <th>Yes</th>\n",
              "      <th>%</th>\n",
              "    </tr>\n",
              "    <tr>\n",
              "      <th>InternetService</th>\n",
              "      <th>OnlineSecurity</th>\n",
              "      <th>OnlineBackup</th>\n",
              "      <th></th>\n",
              "      <th></th>\n",
              "    </tr>\n",
              "  </thead>\n",
              "  <tbody>\n",
              "    <tr>\n",
              "      <th rowspan=\"4\" valign=\"top\">DSL</th>\n",
              "      <th rowspan=\"2\" valign=\"top\">No</th>\n",
              "      <th>No</th>\n",
              "      <td>274</td>\n",
              "      <td>0.146602</td>\n",
              "    </tr>\n",
              "    <tr>\n",
              "      <th>Yes</th>\n",
              "      <td>73</td>\n",
              "      <td>0.039058</td>\n",
              "    </tr>\n",
              "    <tr>\n",
              "      <th rowspan=\"2\" valign=\"top\">Yes</th>\n",
              "      <th>No</th>\n",
              "      <td>69</td>\n",
              "      <td>0.036918</td>\n",
              "    </tr>\n",
              "    <tr>\n",
              "      <th>Yes</th>\n",
              "      <td>43</td>\n",
              "      <td>0.023007</td>\n",
              "    </tr>\n",
              "    <tr>\n",
              "      <th rowspan=\"4\" valign=\"top\">Fiber optic</th>\n",
              "      <th rowspan=\"2\" valign=\"top\">No</th>\n",
              "      <th>No</th>\n",
              "      <td>783</td>\n",
              "      <td>0.418941</td>\n",
              "    </tr>\n",
              "    <tr>\n",
              "      <th>Yes</th>\n",
              "      <td>331</td>\n",
              "      <td>0.177100</td>\n",
              "    </tr>\n",
              "    <tr>\n",
              "      <th rowspan=\"2\" valign=\"top\">Yes</th>\n",
              "      <th>No</th>\n",
              "      <td>107</td>\n",
              "      <td>0.057250</td>\n",
              "    </tr>\n",
              "    <tr>\n",
              "      <th>Yes</th>\n",
              "      <td>76</td>\n",
              "      <td>0.040663</td>\n",
              "    </tr>\n",
              "    <tr>\n",
              "      <th>No</th>\n",
              "      <th>No internet service</th>\n",
              "      <th>No internet service</th>\n",
              "      <td>113</td>\n",
              "      <td>0.060460</td>\n",
              "    </tr>\n",
              "  </tbody>\n",
              "</table>\n",
              "</div>"
            ],
            "text/plain": [
              "Churn                                                    Yes         %\n",
              "InternetService OnlineSecurity      OnlineBackup                      \n",
              "DSL             No                  No                   274  0.146602\n",
              "                                    Yes                   73  0.039058\n",
              "                Yes                 No                    69  0.036918\n",
              "                                    Yes                   43  0.023007\n",
              "Fiber optic     No                  No                   783  0.418941\n",
              "                                    Yes                  331  0.177100\n",
              "                Yes                 No                   107  0.057250\n",
              "                                    Yes                   76  0.040663\n",
              "No              No internet service No internet service  113  0.060460"
            ]
          },
          "metadata": {},
          "execution_count": 46
        }
      ]
    },
    {
      "cell_type": "markdown",
      "metadata": {
        "id": "M2AmyqT1wm0u"
      },
      "source": [
        "## <i>Observations</i>\n",
        "- Using the chi-square test on these variables (InternetService,OnlineBackup,TechSupport), we were able to justify that these variables affect the level of churn.\n",
        "- Churn customer who are using Fiber Optic represent 69.39% of the churned customer with a total of 1297."
      ]
    },
    {
      "cell_type": "markdown",
      "metadata": {
        "id": "LEFdFcpZTM07"
      },
      "source": [
        "## <i>Churned Customer By DeviceProtection"
      ]
    },
    {
      "cell_type": "code",
      "metadata": {
        "id": "ZSBzuyUSTM08",
        "colab": {
          "base_uri": "https://localhost:8080/",
          "height": 573
        },
        "outputId": "070732b4-ecff-420d-d166-cbd478e14e79"
      },
      "source": [
        "table(data=telco_data,column='Churn',index='DeviceProtection',value='customerID', aggf='count')"
      ],
      "execution_count": null,
      "outputs": [
        {
          "output_type": "stream",
          "text": [
            "No handles with labels found to put in legend.\n"
          ],
          "name": "stderr"
        },
        {
          "output_type": "execute_result",
          "data": {
            "text/html": [
              "<div>\n",
              "<style scoped>\n",
              "    .dataframe tbody tr th:only-of-type {\n",
              "        vertical-align: middle;\n",
              "    }\n",
              "\n",
              "    .dataframe tbody tr th {\n",
              "        vertical-align: top;\n",
              "    }\n",
              "\n",
              "    .dataframe thead th {\n",
              "        text-align: right;\n",
              "    }\n",
              "</style>\n",
              "<table border=\"1\" class=\"dataframe\">\n",
              "  <thead>\n",
              "    <tr style=\"text-align: right;\">\n",
              "      <th></th>\n",
              "      <th>Total</th>\n",
              "      <th>%</th>\n",
              "    </tr>\n",
              "    <tr>\n",
              "      <th>DeviceProtection</th>\n",
              "      <th></th>\n",
              "      <th></th>\n",
              "    </tr>\n",
              "  </thead>\n",
              "  <tbody>\n",
              "    <tr>\n",
              "      <th>No</th>\n",
              "      <td>1211</td>\n",
              "      <td>0.648</td>\n",
              "    </tr>\n",
              "    <tr>\n",
              "      <th>No internet service</th>\n",
              "      <td>113</td>\n",
              "      <td>0.060</td>\n",
              "    </tr>\n",
              "    <tr>\n",
              "      <th>Yes</th>\n",
              "      <td>545</td>\n",
              "      <td>0.292</td>\n",
              "    </tr>\n",
              "  </tbody>\n",
              "</table>\n",
              "</div>"
            ],
            "text/plain": [
              "                     Total      %\n",
              "DeviceProtection                 \n",
              "No                    1211  0.648\n",
              "No internet service    113  0.060\n",
              "Yes                    545  0.292"
            ]
          },
          "metadata": {},
          "execution_count": 47
        },
        {
          "output_type": "display_data",
          "data": {
            "image/png": "[encoded data removed]",
            "text/plain": [
              "<Figure size 432x432 with 1 Axes>"
            ]
          },
          "metadata": {}
        }
      ]
    },
    {
      "cell_type": "markdown",
      "metadata": {
        "id": "Js9w_WDgTM08"
      },
      "source": [
        "### <i>Observations\n",
        "\n",
        "- The total number of Customer who don't use Device Protection and churned are 1211, which represents 64.8% of the population.\n",
        "- The total number of Customer who use Device Protection and churned are 545, which represents 29.2% of the population."
      ]
    },
    {
      "cell_type": "code",
      "metadata": {
        "colab": {
          "base_uri": "https://localhost:8080/"
        },
        "id": "x20lySvwKCKG",
        "outputId": "81c2b409-0efe-4651-b253-aa4e6e0e2687"
      },
      "source": [
        "depedency(\"DeviceProtection\")"
      ],
      "execution_count": null,
      "outputs": [
        {
          "output_type": "stream",
          "text": [
            "P_value = 5.505219496457244e-122. The target variable Churn  and DeviceProtection  are not independent with a significance level of 95%.\n",
            "Between churn and DeviceProtection, the cramer's V is 0.2. The relationship is weak.\n"
          ],
          "name": "stdout"
        }
      ]
    },
    {
      "cell_type": "code",
      "metadata": {
        "colab": {
          "base_uri": "https://localhost:8080/",
          "height": 235
        },
        "id": "rK6MxmiA05M9",
        "outputId": "a227631b-c202-4e23-bdf6-46b02dda74b7"
      },
      "source": [
        "tt=telco_data[telco_data['Churn']=='Yes'].pivot_table(index=securityservices,columns='Churn', values='customerID', aggfunc='count')\n",
        "tt"
      ],
      "execution_count": null,
      "outputs": [
        {
          "output_type": "execute_result",
          "data": {
            "text/html": [
              "<div>\n",
              "<style scoped>\n",
              "    .dataframe tbody tr th:only-of-type {\n",
              "        vertical-align: middle;\n",
              "    }\n",
              "\n",
              "    .dataframe tbody tr th {\n",
              "        vertical-align: top;\n",
              "    }\n",
              "\n",
              "    .dataframe thead th {\n",
              "        text-align: right;\n",
              "    }\n",
              "</style>\n",
              "<table border=\"1\" class=\"dataframe\">\n",
              "  <thead>\n",
              "    <tr style=\"text-align: right;\">\n",
              "      <th></th>\n",
              "      <th>Churn</th>\n",
              "      <th>Yes</th>\n",
              "    </tr>\n",
              "    <tr>\n",
              "      <th>DeviceProtection</th>\n",
              "      <th>OnlineSecurity</th>\n",
              "      <th></th>\n",
              "    </tr>\n",
              "  </thead>\n",
              "  <tbody>\n",
              "    <tr>\n",
              "      <th rowspan=\"2\" valign=\"top\">No</th>\n",
              "      <th>No</th>\n",
              "      <td>1029</td>\n",
              "    </tr>\n",
              "    <tr>\n",
              "      <th>Yes</th>\n",
              "      <td>182</td>\n",
              "    </tr>\n",
              "    <tr>\n",
              "      <th>No internet service</th>\n",
              "      <th>No internet service</th>\n",
              "      <td>113</td>\n",
              "    </tr>\n",
              "    <tr>\n",
              "      <th rowspan=\"2\" valign=\"top\">Yes</th>\n",
              "      <th>No</th>\n",
              "      <td>432</td>\n",
              "    </tr>\n",
              "    <tr>\n",
              "      <th>Yes</th>\n",
              "      <td>113</td>\n",
              "    </tr>\n",
              "  </tbody>\n",
              "</table>\n",
              "</div>"
            ],
            "text/plain": [
              "Churn                                     Yes\n",
              "DeviceProtection    OnlineSecurity           \n",
              "No                  No                   1029\n",
              "                    Yes                   182\n",
              "No internet service No internet service   113\n",
              "Yes                 No                    432\n",
              "                    Yes                   113"
            ]
          },
          "metadata": {},
          "execution_count": 49
        }
      ]
    },
    {
      "cell_type": "markdown",
      "metadata": {
        "id": "IA9ehTlpTM09"
      },
      "source": [
        "## <i>Churned Customer By TechSupport"
      ]
    },
    {
      "cell_type": "code",
      "metadata": {
        "id": "HKelvA67TM09",
        "colab": {
          "base_uri": "https://localhost:8080/",
          "height": 573
        },
        "outputId": "0ce89c7b-99e1-42b7-b607-4d59aac60f22"
      },
      "source": [
        "table(data=telco_data,column='Churn',index='TechSupport',value='customerID', aggf='count')"
      ],
      "execution_count": null,
      "outputs": [
        {
          "output_type": "stream",
          "text": [
            "No handles with labels found to put in legend.\n"
          ],
          "name": "stderr"
        },
        {
          "output_type": "execute_result",
          "data": {
            "text/html": [
              "<div>\n",
              "<style scoped>\n",
              "    .dataframe tbody tr th:only-of-type {\n",
              "        vertical-align: middle;\n",
              "    }\n",
              "\n",
              "    .dataframe tbody tr th {\n",
              "        vertical-align: top;\n",
              "    }\n",
              "\n",
              "    .dataframe thead th {\n",
              "        text-align: right;\n",
              "    }\n",
              "</style>\n",
              "<table border=\"1\" class=\"dataframe\">\n",
              "  <thead>\n",
              "    <tr style=\"text-align: right;\">\n",
              "      <th></th>\n",
              "      <th>Total</th>\n",
              "      <th>%</th>\n",
              "    </tr>\n",
              "    <tr>\n",
              "      <th>TechSupport</th>\n",
              "      <th></th>\n",
              "      <th></th>\n",
              "    </tr>\n",
              "  </thead>\n",
              "  <tbody>\n",
              "    <tr>\n",
              "      <th>No</th>\n",
              "      <td>1446</td>\n",
              "      <td>0.774</td>\n",
              "    </tr>\n",
              "    <tr>\n",
              "      <th>No internet service</th>\n",
              "      <td>113</td>\n",
              "      <td>0.060</td>\n",
              "    </tr>\n",
              "    <tr>\n",
              "      <th>Yes</th>\n",
              "      <td>310</td>\n",
              "      <td>0.166</td>\n",
              "    </tr>\n",
              "  </tbody>\n",
              "</table>\n",
              "</div>"
            ],
            "text/plain": [
              "                     Total      %\n",
              "TechSupport                      \n",
              "No                    1446  0.774\n",
              "No internet service    113  0.060\n",
              "Yes                    310  0.166"
            ]
          },
          "metadata": {},
          "execution_count": 50
        },
        {
          "output_type": "display_data",
          "data": {
            "image/png": "[encoded data removed]",
            "text/plain": [
              "<Figure size 432x432 with 1 Axes>"
            ]
          },
          "metadata": {}
        }
      ]
    },
    {
      "cell_type": "markdown",
      "metadata": {
        "id": "nd6EKCbGTM09"
      },
      "source": [
        "### <i>Observations\n",
        "\n",
        "- The total number of Customer who don't use TechSupport and churned are 1446, which represents 77.4% of the population.\n",
        "- The total number of Customer who use TechSupport and churned are 310, which represents 16.6% of the population."
      ]
    },
    {
      "cell_type": "code",
      "metadata": {
        "colab": {
          "base_uri": "https://localhost:8080/"
        },
        "id": "9WWbftnBKLcn",
        "outputId": "69c862d2-93f5-4bb1-c6b9-2db592e25e96"
      },
      "source": [
        "depedency(\"TechSupport\")"
      ],
      "execution_count": null,
      "outputs": [
        {
          "output_type": "stream",
          "text": [
            "P_value = 1.4430840279998987e-180. The target variable Churn  and TechSupport  are not independent with a significance level of 95%.\n",
            "Between churn and TechSupport, the cramer's V is 0.24. The relationship is moderate.\n"
          ],
          "name": "stdout"
        }
      ]
    },
    {
      "cell_type": "code",
      "metadata": {
        "colab": {
          "base_uri": "https://localhost:8080/",
          "height": 235
        },
        "id": "aT6UoZNSN-WR",
        "outputId": "463df049-8a1b-4c6f-88f7-d3efc99d0346"
      },
      "source": [
        "churn_inter_deviceprotec=telco_data[telco_data['Churn']=='Yes'].pivot_table(index=['TechSupport','DeviceProtection'],columns='Churn', values='customerID', aggfunc='count')\n",
        "churn_inter_deviceprotec[\"%\"] = churn_inter_deviceprotec[\"Yes\"].apply(lambda x: x/telco_data[telco_data['Churn']=='Yes'].shape[0])\n",
        "churn_inter_deviceprotec"
      ],
      "execution_count": null,
      "outputs": [
        {
          "output_type": "execute_result",
          "data": {
            "text/html": [
              "<div>\n",
              "<style scoped>\n",
              "    .dataframe tbody tr th:only-of-type {\n",
              "        vertical-align: middle;\n",
              "    }\n",
              "\n",
              "    .dataframe tbody tr th {\n",
              "        vertical-align: top;\n",
              "    }\n",
              "\n",
              "    .dataframe thead th {\n",
              "        text-align: right;\n",
              "    }\n",
              "</style>\n",
              "<table border=\"1\" class=\"dataframe\">\n",
              "  <thead>\n",
              "    <tr style=\"text-align: right;\">\n",
              "      <th></th>\n",
              "      <th>Churn</th>\n",
              "      <th>Yes</th>\n",
              "      <th>%</th>\n",
              "    </tr>\n",
              "    <tr>\n",
              "      <th>TechSupport</th>\n",
              "      <th>DeviceProtection</th>\n",
              "      <th></th>\n",
              "      <th></th>\n",
              "    </tr>\n",
              "  </thead>\n",
              "  <tbody>\n",
              "    <tr>\n",
              "      <th rowspan=\"2\" valign=\"top\">No</th>\n",
              "      <th>No</th>\n",
              "      <td>1048</td>\n",
              "      <td>0.560728</td>\n",
              "    </tr>\n",
              "    <tr>\n",
              "      <th>Yes</th>\n",
              "      <td>398</td>\n",
              "      <td>0.212948</td>\n",
              "    </tr>\n",
              "    <tr>\n",
              "      <th>No internet service</th>\n",
              "      <th>No internet service</th>\n",
              "      <td>113</td>\n",
              "      <td>0.060460</td>\n",
              "    </tr>\n",
              "    <tr>\n",
              "      <th rowspan=\"2\" valign=\"top\">Yes</th>\n",
              "      <th>No</th>\n",
              "      <td>163</td>\n",
              "      <td>0.087212</td>\n",
              "    </tr>\n",
              "    <tr>\n",
              "      <th>Yes</th>\n",
              "      <td>147</td>\n",
              "      <td>0.078652</td>\n",
              "    </tr>\n",
              "  </tbody>\n",
              "</table>\n",
              "</div>"
            ],
            "text/plain": [
              "Churn                                     Yes         %\n",
              "TechSupport         DeviceProtection                   \n",
              "No                  No                   1048  0.560728\n",
              "                    Yes                   398  0.212948\n",
              "No internet service No internet service   113  0.060460\n",
              "Yes                 No                    163  0.087212\n",
              "                    Yes                   147  0.078652"
            ]
          },
          "metadata": {},
          "execution_count": 52
        }
      ]
    },
    {
      "cell_type": "markdown",
      "metadata": {
        "id": "4HeQBCCETM0-"
      },
      "source": [
        "## <i>Churned Customer By StreamingTV"
      ]
    },
    {
      "cell_type": "code",
      "metadata": {
        "id": "AalDJytETM0-",
        "colab": {
          "base_uri": "https://localhost:8080/",
          "height": 573
        },
        "outputId": "99c5fa2e-b03b-4307-8cc6-022faccb2936"
      },
      "source": [
        "table(data=telco_data,column='Churn',index='StreamingTV',value='customerID', aggf='count')"
      ],
      "execution_count": null,
      "outputs": [
        {
          "output_type": "stream",
          "text": [
            "No handles with labels found to put in legend.\n"
          ],
          "name": "stderr"
        },
        {
          "output_type": "execute_result",
          "data": {
            "text/html": [
              "<div>\n",
              "<style scoped>\n",
              "    .dataframe tbody tr th:only-of-type {\n",
              "        vertical-align: middle;\n",
              "    }\n",
              "\n",
              "    .dataframe tbody tr th {\n",
              "        vertical-align: top;\n",
              "    }\n",
              "\n",
              "    .dataframe thead th {\n",
              "        text-align: right;\n",
              "    }\n",
              "</style>\n",
              "<table border=\"1\" class=\"dataframe\">\n",
              "  <thead>\n",
              "    <tr style=\"text-align: right;\">\n",
              "      <th></th>\n",
              "      <th>Total</th>\n",
              "      <th>%</th>\n",
              "    </tr>\n",
              "    <tr>\n",
              "      <th>StreamingTV</th>\n",
              "      <th></th>\n",
              "      <th></th>\n",
              "    </tr>\n",
              "  </thead>\n",
              "  <tbody>\n",
              "    <tr>\n",
              "      <th>No</th>\n",
              "      <td>942</td>\n",
              "      <td>0.504</td>\n",
              "    </tr>\n",
              "    <tr>\n",
              "      <th>No internet service</th>\n",
              "      <td>113</td>\n",
              "      <td>0.060</td>\n",
              "    </tr>\n",
              "    <tr>\n",
              "      <th>Yes</th>\n",
              "      <td>814</td>\n",
              "      <td>0.436</td>\n",
              "    </tr>\n",
              "  </tbody>\n",
              "</table>\n",
              "</div>"
            ],
            "text/plain": [
              "                     Total      %\n",
              "StreamingTV                      \n",
              "No                     942  0.504\n",
              "No internet service    113  0.060\n",
              "Yes                    814  0.436"
            ]
          },
          "metadata": {},
          "execution_count": 53
        },
        {
          "output_type": "display_data",
          "data": {
            "image/png": "[encoded data removed]",
            "text/plain": [
              "<Figure size 432x432 with 1 Axes>"
            ]
          },
          "metadata": {}
        }
      ]
    },
    {
      "cell_type": "markdown",
      "metadata": {
        "id": "6D4vXDLhTM0_"
      },
      "source": [
        "### <i>Observations\n",
        "\n",
        "- The total number of Customer who don't use StreamingTV and churned are 942, which represents 13.4% of the population.\n",
        "- The total number of Customer who use StreamingTV and churned are 814, which represents 11.6% of the population."
      ]
    },
    {
      "cell_type": "code",
      "metadata": {
        "colab": {
          "base_uri": "https://localhost:8080/"
        },
        "id": "RwcC6Dn4KUaY",
        "outputId": "2def8086-125e-4059-bc44-7a6dd6396b7a"
      },
      "source": [
        "depedency(\"StreamingTV\")"
      ],
      "execution_count": null,
      "outputs": [
        {
          "output_type": "stream",
          "text": [
            "P_value = 5.528994485739183e-82. The target variable Churn  and StreamingTV  are not independent with a significance level of 95%.\n",
            "Between churn and StreamingTV, the cramer's V is 0.16. The relationship is weak.\n"
          ],
          "name": "stdout"
        }
      ]
    },
    {
      "cell_type": "markdown",
      "metadata": {
        "id": "Vk_i0jZMTM0_"
      },
      "source": [
        "## <i>Churned Customer By StreamingMovies"
      ]
    },
    {
      "cell_type": "code",
      "metadata": {
        "id": "Fx4z_NYgTM0_",
        "colab": {
          "base_uri": "https://localhost:8080/",
          "height": 573
        },
        "outputId": "4af354ff-935f-477c-d7d8-db2f688f3a1e"
      },
      "source": [
        "table(data=telco_data,column='Churn',index='StreamingMovies',value='customerID', aggf='count')"
      ],
      "execution_count": null,
      "outputs": [
        {
          "output_type": "stream",
          "text": [
            "No handles with labels found to put in legend.\n"
          ],
          "name": "stderr"
        },
        {
          "output_type": "execute_result",
          "data": {
            "text/html": [
              "<div>\n",
              "<style scoped>\n",
              "    .dataframe tbody tr th:only-of-type {\n",
              "        vertical-align: middle;\n",
              "    }\n",
              "\n",
              "    .dataframe tbody tr th {\n",
              "        vertical-align: top;\n",
              "    }\n",
              "\n",
              "    .dataframe thead th {\n",
              "        text-align: right;\n",
              "    }\n",
              "</style>\n",
              "<table border=\"1\" class=\"dataframe\">\n",
              "  <thead>\n",
              "    <tr style=\"text-align: right;\">\n",
              "      <th></th>\n",
              "      <th>Total</th>\n",
              "      <th>%</th>\n",
              "    </tr>\n",
              "    <tr>\n",
              "      <th>StreamingMovies</th>\n",
              "      <th></th>\n",
              "      <th></th>\n",
              "    </tr>\n",
              "  </thead>\n",
              "  <tbody>\n",
              "    <tr>\n",
              "      <th>No</th>\n",
              "      <td>938</td>\n",
              "      <td>0.502</td>\n",
              "    </tr>\n",
              "    <tr>\n",
              "      <th>No internet service</th>\n",
              "      <td>113</td>\n",
              "      <td>0.060</td>\n",
              "    </tr>\n",
              "    <tr>\n",
              "      <th>Yes</th>\n",
              "      <td>818</td>\n",
              "      <td>0.438</td>\n",
              "    </tr>\n",
              "  </tbody>\n",
              "</table>\n",
              "</div>"
            ],
            "text/plain": [
              "                     Total      %\n",
              "StreamingMovies                  \n",
              "No                     938  0.502\n",
              "No internet service    113  0.060\n",
              "Yes                    818  0.438"
            ]
          },
          "metadata": {},
          "execution_count": 55
        },
        {
          "output_type": "display_data",
          "data": {
            "image/png": "[encoded data removed]",
            "text/plain": [
              "<Figure size 432x432 with 1 Axes>"
            ]
          },
          "metadata": {}
        }
      ]
    },
    {
      "cell_type": "markdown",
      "metadata": {
        "id": "aM1cNMdHTM1A"
      },
      "source": [
        "### <i>Observations\n",
        "\n",
        "- The total number of Customer who don't use StreamingMovies and churned are 938, which represents 13.3% of the population.\n",
        "- The total number of Customer who use StreamingMovies and churned are 818, which represents 11.6% of the population."
      ]
    },
    {
      "cell_type": "code",
      "metadata": {
        "colab": {
          "base_uri": "https://localhost:8080/"
        },
        "id": "DfEfUPKqKb_I",
        "outputId": "ca0ac209-6d0d-4ca5-fdbc-8e1a088443e9"
      },
      "source": [
        "depedency(\"StreamingMovies\")"
      ],
      "execution_count": null,
      "outputs": [
        {
          "output_type": "stream",
          "text": [
            "P_value = 2.667756755723681e-82. The target variable Churn  and StreamingMovies  are not independent with a significance level of 95%.\n",
            "Between churn and StreamingMovies, the cramer's V is 0.16. The relationship is weak.\n"
          ],
          "name": "stdout"
        }
      ]
    },
    {
      "cell_type": "code",
      "metadata": {
        "colab": {
          "base_uri": "https://localhost:8080/",
          "height": 235
        },
        "id": "DVF488F_PBCq",
        "outputId": "98206477-5c93-4888-ab94-67521f695187"
      },
      "source": [
        "tt=telco_data[telco_data['Churn']=='Yes'].pivot_table(index=streamingservices,columns='Churn', values='customerID', aggfunc='count')\n",
        "tt"
      ],
      "execution_count": null,
      "outputs": [
        {
          "output_type": "execute_result",
          "data": {
            "text/html": [
              "<div>\n",
              "<style scoped>\n",
              "    .dataframe tbody tr th:only-of-type {\n",
              "        vertical-align: middle;\n",
              "    }\n",
              "\n",
              "    .dataframe tbody tr th {\n",
              "        vertical-align: top;\n",
              "    }\n",
              "\n",
              "    .dataframe thead th {\n",
              "        text-align: right;\n",
              "    }\n",
              "</style>\n",
              "<table border=\"1\" class=\"dataframe\">\n",
              "  <thead>\n",
              "    <tr style=\"text-align: right;\">\n",
              "      <th></th>\n",
              "      <th>Churn</th>\n",
              "      <th>Yes</th>\n",
              "    </tr>\n",
              "    <tr>\n",
              "      <th>StreamingTV</th>\n",
              "      <th>StreamingMovies</th>\n",
              "      <th></th>\n",
              "    </tr>\n",
              "  </thead>\n",
              "  <tbody>\n",
              "    <tr>\n",
              "      <th rowspan=\"2\" valign=\"top\">No</th>\n",
              "      <th>No</th>\n",
              "      <td>695</td>\n",
              "    </tr>\n",
              "    <tr>\n",
              "      <th>Yes</th>\n",
              "      <td>247</td>\n",
              "    </tr>\n",
              "    <tr>\n",
              "      <th>No internet service</th>\n",
              "      <th>No internet service</th>\n",
              "      <td>113</td>\n",
              "    </tr>\n",
              "    <tr>\n",
              "      <th rowspan=\"2\" valign=\"top\">Yes</th>\n",
              "      <th>No</th>\n",
              "      <td>243</td>\n",
              "    </tr>\n",
              "    <tr>\n",
              "      <th>Yes</th>\n",
              "      <td>571</td>\n",
              "    </tr>\n",
              "  </tbody>\n",
              "</table>\n",
              "</div>"
            ],
            "text/plain": [
              "Churn                                    Yes\n",
              "StreamingTV         StreamingMovies         \n",
              "No                  No                   695\n",
              "                    Yes                  247\n",
              "No internet service No internet service  113\n",
              "Yes                 No                   243\n",
              "                    Yes                  571"
            ]
          },
          "metadata": {},
          "execution_count": 57
        }
      ]
    },
    {
      "cell_type": "markdown",
      "metadata": {
        "id": "05dGY7hbTM1B"
      },
      "source": [
        "# <i>Analysis Of Customer by Billing Information\n",
        "## <i>Churned Customer By Contract"
      ]
    },
    {
      "cell_type": "code",
      "metadata": {
        "id": "wjK92jKSTM1C",
        "colab": {
          "base_uri": "https://localhost:8080/",
          "height": 573
        },
        "outputId": "0a42ed46-7166-4228-c941-5af38fcabcf4"
      },
      "source": [
        "table(data=telco_data,column='Churn',index='Contract',value='customerID', aggf='count')"
      ],
      "execution_count": null,
      "outputs": [
        {
          "output_type": "stream",
          "text": [
            "No handles with labels found to put in legend.\n"
          ],
          "name": "stderr"
        },
        {
          "output_type": "execute_result",
          "data": {
            "text/html": [
              "<div>\n",
              "<style scoped>\n",
              "    .dataframe tbody tr th:only-of-type {\n",
              "        vertical-align: middle;\n",
              "    }\n",
              "\n",
              "    .dataframe tbody tr th {\n",
              "        vertical-align: top;\n",
              "    }\n",
              "\n",
              "    .dataframe thead th {\n",
              "        text-align: right;\n",
              "    }\n",
              "</style>\n",
              "<table border=\"1\" class=\"dataframe\">\n",
              "  <thead>\n",
              "    <tr style=\"text-align: right;\">\n",
              "      <th></th>\n",
              "      <th>Total</th>\n",
              "      <th>%</th>\n",
              "    </tr>\n",
              "    <tr>\n",
              "      <th>Contract</th>\n",
              "      <th></th>\n",
              "      <th></th>\n",
              "    </tr>\n",
              "  </thead>\n",
              "  <tbody>\n",
              "    <tr>\n",
              "      <th>Month-to-month</th>\n",
              "      <td>1655</td>\n",
              "      <td>0.886</td>\n",
              "    </tr>\n",
              "    <tr>\n",
              "      <th>One year</th>\n",
              "      <td>166</td>\n",
              "      <td>0.089</td>\n",
              "    </tr>\n",
              "    <tr>\n",
              "      <th>Two year</th>\n",
              "      <td>48</td>\n",
              "      <td>0.026</td>\n",
              "    </tr>\n",
              "  </tbody>\n",
              "</table>\n",
              "</div>"
            ],
            "text/plain": [
              "                Total      %\n",
              "Contract                    \n",
              "Month-to-month   1655  0.886\n",
              "One year          166  0.089\n",
              "Two year           48  0.026"
            ]
          },
          "metadata": {},
          "execution_count": 58
        },
        {
          "output_type": "display_data",
          "data": {
            "image/png": "[encoded data removed]",
            "text/plain": [
              "<Figure size 432x432 with 1 Axes>"
            ]
          },
          "metadata": {}
        }
      ]
    },
    {
      "cell_type": "markdown",
      "metadata": {
        "id": "wJZWFu5BTM1C"
      },
      "source": [
        "### <i>Observations\n",
        "\n",
        "- The total number of Customer who use Month-to-month Contract and churned are 1655, which represents 23.5% of the population.\n",
        "- The total number of Customer who use One year\tContract and churned are 166, which represents 2.4% of the population.\n",
        "- The total number of Customer who use Two year\tContract and churned are 48, which represents 0.7% of the population."
      ]
    },
    {
      "cell_type": "code",
      "metadata": {
        "colab": {
          "base_uri": "https://localhost:8080/"
        },
        "id": "mJnmVwNcPbCZ",
        "outputId": "297cfa18-d65d-4fdc-983c-f6cc76909cd2"
      },
      "source": [
        "depedency('Contract')"
      ],
      "execution_count": null,
      "outputs": [
        {
          "output_type": "stream",
          "text": [
            "P_value = 5.863038300673391e-258. The target variable Churn  and Contract  are not independent with a significance level of 95%.\n",
            "Between churn and Contract, the cramer's V is 0.29. The relationship is moderate.\n"
          ],
          "name": "stdout"
        }
      ]
    },
    {
      "cell_type": "markdown",
      "metadata": {
        "id": "1_ZR67lTTM1C"
      },
      "source": [
        "## <i>Churned Customer By PaperlessBilling"
      ]
    },
    {
      "cell_type": "code",
      "metadata": {
        "id": "szZk_wP0TM1D",
        "colab": {
          "base_uri": "https://localhost:8080/"
        },
        "outputId": "60b56e92-5227-42a8-ba59-5df188116a72"
      },
      "source": [
        "table(data=telco_data,column='Churn',index='PaperlessBilling',value='customerID', aggf='count')"
      ],
      "execution_count": null,
      "outputs": [
        {
          "output_type": "stream",
          "text": [
            "No handles with labels found to put in legend.\n"
          ],
          "name": "stderr"
        },
        {
          "output_type": "execute_result",
          "data": {
            "text/html": [
              "<div>\n",
              "<style scoped>\n",
              "    .dataframe tbody tr th:only-of-type {\n",
              "        vertical-align: middle;\n",
              "    }\n",
              "\n",
              "    .dataframe tbody tr th {\n",
              "        vertical-align: top;\n",
              "    }\n",
              "\n",
              "    .dataframe thead th {\n",
              "        text-align: right;\n",
              "    }\n",
              "</style>\n",
              "<table border=\"1\" class=\"dataframe\">\n",
              "  <thead>\n",
              "    <tr style=\"text-align: right;\">\n",
              "      <th></th>\n",
              "      <th>Total</th>\n",
              "      <th>%</th>\n",
              "    </tr>\n",
              "    <tr>\n",
              "      <th>PaperlessBilling</th>\n",
              "      <th></th>\n",
              "      <th></th>\n",
              "    </tr>\n",
              "  </thead>\n",
              "  <tbody>\n",
              "    <tr>\n",
              "      <th>No</th>\n",
              "      <td>469</td>\n",
              "      <td>0.251</td>\n",
              "    </tr>\n",
              "    <tr>\n",
              "      <th>Yes</th>\n",
              "      <td>1400</td>\n",
              "      <td>0.749</td>\n",
              "    </tr>\n",
              "  </tbody>\n",
              "</table>\n",
              "</div>"
            ],
            "text/plain": [
              "                  Total      %\n",
              "PaperlessBilling              \n",
              "No                  469  0.251\n",
              "Yes                1400  0.749"
            ]
          },
          "metadata": {},
          "execution_count": 60
        },
        {
          "output_type": "display_data",
          "data": {
            "image/png": "[encoded data removed]",
            "text/plain": [
              "<Figure size 432x432 with 1 Axes>"
            ]
          },
          "metadata": {}
        }
      ]
    },
    {
      "cell_type": "markdown",
      "metadata": {
        "id": "bZj9PsXVTM1D"
      },
      "source": [
        "### <i>Observations\n",
        "\n",
        "- The total number of Customer who don't use PaperlessBilling and churned are 469, which represents 6.7% of the population.\n",
        "- The total number of Customer who use PaperlessBilling and churned are 1400, which represents 19.9% of the population."
      ]
    },
    {
      "cell_type": "code",
      "metadata": {
        "colab": {
          "base_uri": "https://localhost:8080/"
        },
        "id": "f32S5BFSPpDi",
        "outputId": "805d7c76-2f8b-48e6-e039-d7c777f20f3d"
      },
      "source": [
        "depedency('PaperlessBilling')"
      ],
      "execution_count": null,
      "outputs": [
        {
          "output_type": "stream",
          "text": [
            "P_value = 4.073354668665985e-58. The target variable Churn  and PaperlessBilling  are not independent with a significance level of 95%.\n",
            "Between churn and PaperlessBilling, the cramer's V is 0.14. The relationship is weak.\n"
          ],
          "name": "stdout"
        }
      ]
    },
    {
      "cell_type": "markdown",
      "metadata": {
        "id": "G4Ty5jH6TM1E"
      },
      "source": [
        "## <i>Churned Customer By PaymentMethod"
      ]
    },
    {
      "cell_type": "code",
      "metadata": {
        "id": "GBxP9RcdTM1E",
        "colab": {
          "base_uri": "https://localhost:8080/",
          "height": 604
        },
        "outputId": "4ed8da25-319b-4bae-b9ea-5c09081282b8"
      },
      "source": [
        "table(data=telco_data,column='Churn',index='PaymentMethod',value='customerID', aggf='count')"
      ],
      "execution_count": null,
      "outputs": [
        {
          "output_type": "stream",
          "text": [
            "No handles with labels found to put in legend.\n"
          ],
          "name": "stderr"
        },
        {
          "output_type": "execute_result",
          "data": {
            "text/html": [
              "<div>\n",
              "<style scoped>\n",
              "    .dataframe tbody tr th:only-of-type {\n",
              "        vertical-align: middle;\n",
              "    }\n",
              "\n",
              "    .dataframe tbody tr th {\n",
              "        vertical-align: top;\n",
              "    }\n",
              "\n",
              "    .dataframe thead th {\n",
              "        text-align: right;\n",
              "    }\n",
              "</style>\n",
              "<table border=\"1\" class=\"dataframe\">\n",
              "  <thead>\n",
              "    <tr style=\"text-align: right;\">\n",
              "      <th></th>\n",
              "      <th>Total</th>\n",
              "      <th>%</th>\n",
              "    </tr>\n",
              "    <tr>\n",
              "      <th>PaymentMethod</th>\n",
              "      <th></th>\n",
              "      <th></th>\n",
              "    </tr>\n",
              "  </thead>\n",
              "  <tbody>\n",
              "    <tr>\n",
              "      <th>Bank transfer (automatic)</th>\n",
              "      <td>258</td>\n",
              "      <td>0.138</td>\n",
              "    </tr>\n",
              "    <tr>\n",
              "      <th>Credit card (automatic)</th>\n",
              "      <td>232</td>\n",
              "      <td>0.124</td>\n",
              "    </tr>\n",
              "    <tr>\n",
              "      <th>Electronic check</th>\n",
              "      <td>1071</td>\n",
              "      <td>0.573</td>\n",
              "    </tr>\n",
              "    <tr>\n",
              "      <th>Mailed check</th>\n",
              "      <td>308</td>\n",
              "      <td>0.165</td>\n",
              "    </tr>\n",
              "  </tbody>\n",
              "</table>\n",
              "</div>"
            ],
            "text/plain": [
              "                           Total      %\n",
              "PaymentMethod                          \n",
              "Bank transfer (automatic)    258  0.138\n",
              "Credit card (automatic)      232  0.124\n",
              "Electronic check            1071  0.573\n",
              "Mailed check                 308  0.165"
            ]
          },
          "metadata": {},
          "execution_count": 62
        },
        {
          "output_type": "display_data",
          "data": {
            "image/png": "[encoded data removed]",
            "text/plain": [
              "<Figure size 432x432 with 1 Axes>"
            ]
          },
          "metadata": {}
        }
      ]
    },
    {
      "cell_type": "markdown",
      "metadata": {
        "id": "pCSiaujQTM1E"
      },
      "source": [
        "### <i>Observations\n",
        "\n",
        " - The total number of Customer who use Bank transfer as PaymentMethod and churned are 258, which represents 3.7% of the population.\n",
        " - The total number of Customer who use Credit card as PaymentMethod and churned are 232, which represents 3.3% of the population.\n",
        " - The total number of Customer who use Electronic check as PaymentMethod and churned are 1071, which represents 15.2% of the population.\n",
        " - The total number of Customer who use Mailed check as PaymentMethod and churned are 308, which represents 4.4% of the population."
      ]
    },
    {
      "cell_type": "code",
      "metadata": {
        "colab": {
          "base_uri": "https://localhost:8080/"
        },
        "id": "5SxtVFlxQaTh",
        "outputId": "24292863-ea29-4cef-add8-15682ef8b56f"
      },
      "source": [
        "depedency('PaymentMethod')"
      ],
      "execution_count": null,
      "outputs": [
        {
          "output_type": "stream",
          "text": [
            "P_value = 3.6823546520097993e-140. The target variable Churn  and PaymentMethod  are not independent with a significance level of 95%.\n",
            "Between churn and PaymentMethod, the cramer's V is 0.21. The relationship is moderate.\n"
          ],
          "name": "stdout"
        }
      ]
    },
    {
      "cell_type": "markdown",
      "metadata": {
        "id": "cqdGLQrrEuUk"
      },
      "source": [
        "## <i>Observations</i>\n",
        "- Using the chi-square test on the variables related to billing information, we were able to justify that they affect the level of churn."
      ]
    },
    {
      "cell_type": "code",
      "metadata": {
        "colab": {
          "base_uri": "https://localhost:8080/",
          "height": 824
        },
        "id": "R-JpROvKRHkq",
        "outputId": "7943b73a-91b7-4ecb-c4e9-39a3f6a8f7e7"
      },
      "source": [
        "#Creation of a table to visualize at which level these variables affect the level of the churned customer.\n",
        "churn_billinginfo = telco_data[telco_data['Churn']=='Yes'].pivot_table(index=billinginfos,columns='Churn', values='customerID', aggfunc='count')\n",
        "churn_billinginfo[\"%\"] = churn_billinginfo[\"Yes\"].apply(lambda x: x/telco_data[telco_data['Churn']=='Yes'].shape[0])\n",
        "churn_billinginfo"
      ],
      "execution_count": null,
      "outputs": [
        {
          "output_type": "execute_result",
          "data": {
            "text/html": [
              "<div>\n",
              "<style scoped>\n",
              "    .dataframe tbody tr th:only-of-type {\n",
              "        vertical-align: middle;\n",
              "    }\n",
              "\n",
              "    .dataframe tbody tr th {\n",
              "        vertical-align: top;\n",
              "    }\n",
              "\n",
              "    .dataframe thead th {\n",
              "        text-align: right;\n",
              "    }\n",
              "</style>\n",
              "<table border=\"1\" class=\"dataframe\">\n",
              "  <thead>\n",
              "    <tr style=\"text-align: right;\">\n",
              "      <th></th>\n",
              "      <th></th>\n",
              "      <th>Churn</th>\n",
              "      <th>Yes</th>\n",
              "      <th>%</th>\n",
              "    </tr>\n",
              "    <tr>\n",
              "      <th>Contract</th>\n",
              "      <th>PaperlessBilling</th>\n",
              "      <th>PaymentMethod</th>\n",
              "      <th></th>\n",
              "      <th></th>\n",
              "    </tr>\n",
              "  </thead>\n",
              "  <tbody>\n",
              "    <tr>\n",
              "      <th rowspan=\"8\" valign=\"top\">Month-to-month</th>\n",
              "      <th rowspan=\"4\" valign=\"top\">No</th>\n",
              "      <th>Bank transfer (automatic)</th>\n",
              "      <td>55</td>\n",
              "      <td>0.029428</td>\n",
              "    </tr>\n",
              "    <tr>\n",
              "      <th>Credit card (automatic)</th>\n",
              "      <td>45</td>\n",
              "      <td>0.024077</td>\n",
              "    </tr>\n",
              "    <tr>\n",
              "      <th>Electronic check</th>\n",
              "      <td>188</td>\n",
              "      <td>0.100589</td>\n",
              "    </tr>\n",
              "    <tr>\n",
              "      <th>Mailed check</th>\n",
              "      <td>118</td>\n",
              "      <td>0.063135</td>\n",
              "    </tr>\n",
              "    <tr>\n",
              "      <th rowspan=\"4\" valign=\"top\">Yes</th>\n",
              "      <th>Bank transfer (automatic)</th>\n",
              "      <td>146</td>\n",
              "      <td>0.078117</td>\n",
              "    </tr>\n",
              "    <tr>\n",
              "      <th>Credit card (automatic)</th>\n",
              "      <td>133</td>\n",
              "      <td>0.071161</td>\n",
              "    </tr>\n",
              "    <tr>\n",
              "      <th>Electronic check</th>\n",
              "      <td>806</td>\n",
              "      <td>0.431247</td>\n",
              "    </tr>\n",
              "    <tr>\n",
              "      <th>Mailed check</th>\n",
              "      <td>164</td>\n",
              "      <td>0.087747</td>\n",
              "    </tr>\n",
              "    <tr>\n",
              "      <th rowspan=\"8\" valign=\"top\">One year</th>\n",
              "      <th rowspan=\"4\" valign=\"top\">No</th>\n",
              "      <th>Bank transfer (automatic)</th>\n",
              "      <td>11</td>\n",
              "      <td>0.005886</td>\n",
              "    </tr>\n",
              "    <tr>\n",
              "      <th>Credit card (automatic)</th>\n",
              "      <td>13</td>\n",
              "      <td>0.006956</td>\n",
              "    </tr>\n",
              "    <tr>\n",
              "      <th>Electronic check</th>\n",
              "      <td>14</td>\n",
              "      <td>0.007491</td>\n",
              "    </tr>\n",
              "    <tr>\n",
              "      <th>Mailed check</th>\n",
              "      <td>10</td>\n",
              "      <td>0.005350</td>\n",
              "    </tr>\n",
              "    <tr>\n",
              "      <th rowspan=\"4\" valign=\"top\">Yes</th>\n",
              "      <th>Bank transfer (automatic)</th>\n",
              "      <td>27</td>\n",
              "      <td>0.014446</td>\n",
              "    </tr>\n",
              "    <tr>\n",
              "      <th>Credit card (automatic)</th>\n",
              "      <td>28</td>\n",
              "      <td>0.014981</td>\n",
              "    </tr>\n",
              "    <tr>\n",
              "      <th>Electronic check</th>\n",
              "      <td>50</td>\n",
              "      <td>0.026752</td>\n",
              "    </tr>\n",
              "    <tr>\n",
              "      <th>Mailed check</th>\n",
              "      <td>13</td>\n",
              "      <td>0.006956</td>\n",
              "    </tr>\n",
              "    <tr>\n",
              "      <th rowspan=\"8\" valign=\"top\">Two year</th>\n",
              "      <th rowspan=\"4\" valign=\"top\">No</th>\n",
              "      <th>Bank transfer (automatic)</th>\n",
              "      <td>6</td>\n",
              "      <td>0.003210</td>\n",
              "    </tr>\n",
              "    <tr>\n",
              "      <th>Credit card (automatic)</th>\n",
              "      <td>6</td>\n",
              "      <td>0.003210</td>\n",
              "    </tr>\n",
              "    <tr>\n",
              "      <th>Electronic check</th>\n",
              "      <td>2</td>\n",
              "      <td>0.001070</td>\n",
              "    </tr>\n",
              "    <tr>\n",
              "      <th>Mailed check</th>\n",
              "      <td>1</td>\n",
              "      <td>0.000535</td>\n",
              "    </tr>\n",
              "    <tr>\n",
              "      <th rowspan=\"4\" valign=\"top\">Yes</th>\n",
              "      <th>Bank transfer (automatic)</th>\n",
              "      <td>13</td>\n",
              "      <td>0.006956</td>\n",
              "    </tr>\n",
              "    <tr>\n",
              "      <th>Credit card (automatic)</th>\n",
              "      <td>7</td>\n",
              "      <td>0.003745</td>\n",
              "    </tr>\n",
              "    <tr>\n",
              "      <th>Electronic check</th>\n",
              "      <td>11</td>\n",
              "      <td>0.005886</td>\n",
              "    </tr>\n",
              "    <tr>\n",
              "      <th>Mailed check</th>\n",
              "      <td>2</td>\n",
              "      <td>0.001070</td>\n",
              "    </tr>\n",
              "  </tbody>\n",
              "</table>\n",
              "</div>"
            ],
            "text/plain": [
              "Churn                                                      Yes         %\n",
              "Contract       PaperlessBilling PaymentMethod                           \n",
              "Month-to-month No               Bank transfer (automatic)   55  0.029428\n",
              "                                Credit card (automatic)     45  0.024077\n",
              "                                Electronic check           188  0.100589\n",
              "                                Mailed check               118  0.063135\n",
              "               Yes              Bank transfer (automatic)  146  0.078117\n",
              "                                Credit card (automatic)    133  0.071161\n",
              "                                Electronic check           806  0.431247\n",
              "                                Mailed check               164  0.087747\n",
              "One year       No               Bank transfer (automatic)   11  0.005886\n",
              "                                Credit card (automatic)     13  0.006956\n",
              "                                Electronic check            14  0.007491\n",
              "                                Mailed check                10  0.005350\n",
              "               Yes              Bank transfer (automatic)   27  0.014446\n",
              "                                Credit card (automatic)     28  0.014981\n",
              "                                Electronic check            50  0.026752\n",
              "                                Mailed check                13  0.006956\n",
              "Two year       No               Bank transfer (automatic)    6  0.003210\n",
              "                                Credit card (automatic)      6  0.003210\n",
              "                                Electronic check             2  0.001070\n",
              "                                Mailed check                 1  0.000535\n",
              "               Yes              Bank transfer (automatic)   13  0.006956\n",
              "                                Credit card (automatic)      7  0.003745\n",
              "                                Electronic check            11  0.005886\n",
              "                                Mailed check                 2  0.001070"
            ]
          },
          "metadata": {},
          "execution_count": 64
        }
      ]
    },
    {
      "cell_type": "markdown",
      "metadata": {
        "id": "FRlu4O28GENB"
      },
      "source": [
        "##<i>Observations\n",
        "\n",
        "- Combining these three variables, we see that Customer who are using <b>Month-to-month\tContract</b> with <b>PaperlessBilling</b> and <b>Electronic Check PaymentMethod</b> represent 43.12% of the churned customer with a total of 806."
      ]
    },
    {
      "cell_type": "markdown",
      "metadata": {
        "id": "nZaTtXpYQgm6"
      },
      "source": [
        ""
      ]
    },
    {
      "cell_type": "code",
      "metadata": {
        "id": "x2vcv06VTM1F",
        "colab": {
          "base_uri": "https://localhost:8080/",
          "height": 142
        },
        "outputId": "30579a3e-1734-423b-a927-2723490a4712"
      },
      "source": [
        "churn_customer_totamount = telco_data.groupby(by=['Churn']).TotalCharges.sum().to_frame()\n",
        "churn_customer_totamount"
      ],
      "execution_count": null,
      "outputs": [
        {
          "output_type": "execute_result",
          "data": {
            "text/html": [
              "<div>\n",
              "<style scoped>\n",
              "    .dataframe tbody tr th:only-of-type {\n",
              "        vertical-align: middle;\n",
              "    }\n",
              "\n",
              "    .dataframe tbody tr th {\n",
              "        vertical-align: top;\n",
              "    }\n",
              "\n",
              "    .dataframe thead th {\n",
              "        text-align: right;\n",
              "    }\n",
              "</style>\n",
              "<table border=\"1\" class=\"dataframe\">\n",
              "  <thead>\n",
              "    <tr style=\"text-align: right;\">\n",
              "      <th></th>\n",
              "      <th>TotalCharges</th>\n",
              "    </tr>\n",
              "    <tr>\n",
              "      <th>Churn</th>\n",
              "      <th></th>\n",
              "    </tr>\n",
              "  </thead>\n",
              "  <tbody>\n",
              "    <tr>\n",
              "      <th>No</th>\n",
              "      <td>13193697.4</td>\n",
              "    </tr>\n",
              "    <tr>\n",
              "      <th>Yes</th>\n",
              "      <td>2862926.9</td>\n",
              "    </tr>\n",
              "  </tbody>\n",
              "</table>\n",
              "</div>"
            ],
            "text/plain": [
              "       TotalCharges\n",
              "Churn              \n",
              "No       13193697.4\n",
              "Yes       2862926.9"
            ]
          },
          "metadata": {},
          "execution_count": 65
        }
      ]
    },
    {
      "cell_type": "code",
      "metadata": {
        "id": "wR-i70YhTM1G",
        "colab": {
          "base_uri": "https://localhost:8080/",
          "height": 142
        },
        "outputId": "5cb804aa-4d20-43b3-d3d2-6a98aac1ad89"
      },
      "source": [
        "churn_customer_amount = telco_data.groupby(by=['Churn']).MonthlyCharges.sum().to_frame()\n",
        "churn_customer_amount"
      ],
      "execution_count": null,
      "outputs": [
        {
          "output_type": "execute_result",
          "data": {
            "text/html": [
              "<div>\n",
              "<style scoped>\n",
              "    .dataframe tbody tr th:only-of-type {\n",
              "        vertical-align: middle;\n",
              "    }\n",
              "\n",
              "    .dataframe tbody tr th {\n",
              "        vertical-align: top;\n",
              "    }\n",
              "\n",
              "    .dataframe thead th {\n",
              "        text-align: right;\n",
              "    }\n",
              "</style>\n",
              "<table border=\"1\" class=\"dataframe\">\n",
              "  <thead>\n",
              "    <tr style=\"text-align: right;\">\n",
              "      <th></th>\n",
              "      <th>MonthlyCharges</th>\n",
              "    </tr>\n",
              "    <tr>\n",
              "      <th>Churn</th>\n",
              "      <th></th>\n",
              "    </tr>\n",
              "  </thead>\n",
              "  <tbody>\n",
              "    <tr>\n",
              "      <th>No</th>\n",
              "      <td>316985.75</td>\n",
              "    </tr>\n",
              "    <tr>\n",
              "      <th>Yes</th>\n",
              "      <td>139130.85</td>\n",
              "    </tr>\n",
              "  </tbody>\n",
              "</table>\n",
              "</div>"
            ],
            "text/plain": [
              "       MonthlyCharges\n",
              "Churn                \n",
              "No          316985.75\n",
              "Yes         139130.85"
            ]
          },
          "metadata": {},
          "execution_count": 66
        }
      ]
    },
    {
      "cell_type": "code",
      "metadata": {
        "id": "9onPYMqfTM1G",
        "colab": {
          "base_uri": "https://localhost:8080/"
        },
        "outputId": "d634e867-d69a-495c-c456-3f4f3bc0dbca"
      },
      "source": [
        "telco_data.columns"
      ],
      "execution_count": null,
      "outputs": [
        {
          "output_type": "execute_result",
          "data": {
            "text/plain": [
              "Index(['customerID', 'gender', 'SeniorCitizen', 'Partner', 'Dependents',\n",
              "       'tenure', 'PhoneService', 'MultipleLines', 'InternetService',\n",
              "       'OnlineSecurity', 'OnlineBackup', 'DeviceProtection', 'TechSupport',\n",
              "       'StreamingTV', 'StreamingMovies', 'Contract', 'PaperlessBilling',\n",
              "       'PaymentMethod', 'MonthlyCharges', 'TotalCharges', 'Churn',\n",
              "       'tenure_group'],\n",
              "      dtype='object')"
            ]
          },
          "metadata": {},
          "execution_count": 67
        }
      ]
    },
    {
      "cell_type": "markdown",
      "metadata": {
        "id": "FmI50KGkTM1H"
      },
      "source": [
        "## <i>Churned Customer Tenure Variation"
      ]
    },
    {
      "cell_type": "code",
      "metadata": {
        "id": "Nyh4hLLaTM1H",
        "colab": {
          "base_uri": "https://localhost:8080/",
          "height": 297
        },
        "outputId": "05d34c08-8323-4d3c-9dee-2dd0aa87b4a4"
      },
      "source": [
        "churn_tenure_count  = telco_data.pivot_table(index=\"tenure_group\",columns=\"Churn\",values =\"customerID\",aggfunc=\"count\", margins=True)\n",
        "churn_tenure_count "
      ],
      "execution_count": null,
      "outputs": [
        {
          "output_type": "execute_result",
          "data": {
            "text/html": [
              "<div>\n",
              "<style scoped>\n",
              "    .dataframe tbody tr th:only-of-type {\n",
              "        vertical-align: middle;\n",
              "    }\n",
              "\n",
              "    .dataframe tbody tr th {\n",
              "        vertical-align: top;\n",
              "    }\n",
              "\n",
              "    .dataframe thead th {\n",
              "        text-align: right;\n",
              "    }\n",
              "</style>\n",
              "<table border=\"1\" class=\"dataframe\">\n",
              "  <thead>\n",
              "    <tr style=\"text-align: right;\">\n",
              "      <th>Churn</th>\n",
              "      <th>No</th>\n",
              "      <th>Yes</th>\n",
              "      <th>All</th>\n",
              "    </tr>\n",
              "    <tr>\n",
              "      <th>tenure_group</th>\n",
              "      <th></th>\n",
              "      <th></th>\n",
              "      <th></th>\n",
              "    </tr>\n",
              "  </thead>\n",
              "  <tbody>\n",
              "    <tr>\n",
              "      <th>0 - 12</th>\n",
              "      <td>1138</td>\n",
              "      <td>1037</td>\n",
              "      <td>2175</td>\n",
              "    </tr>\n",
              "    <tr>\n",
              "      <th>13 - 24</th>\n",
              "      <td>730</td>\n",
              "      <td>294</td>\n",
              "      <td>1024</td>\n",
              "    </tr>\n",
              "    <tr>\n",
              "      <th>25 - 36</th>\n",
              "      <td>652</td>\n",
              "      <td>180</td>\n",
              "      <td>832</td>\n",
              "    </tr>\n",
              "    <tr>\n",
              "      <th>37 - 48</th>\n",
              "      <td>617</td>\n",
              "      <td>145</td>\n",
              "      <td>762</td>\n",
              "    </tr>\n",
              "    <tr>\n",
              "      <th>49 - 60</th>\n",
              "      <td>712</td>\n",
              "      <td>120</td>\n",
              "      <td>832</td>\n",
              "    </tr>\n",
              "    <tr>\n",
              "      <th>61 - 72</th>\n",
              "      <td>1314</td>\n",
              "      <td>93</td>\n",
              "      <td>1407</td>\n",
              "    </tr>\n",
              "    <tr>\n",
              "      <th>All</th>\n",
              "      <td>5163</td>\n",
              "      <td>1869</td>\n",
              "      <td>7032</td>\n",
              "    </tr>\n",
              "  </tbody>\n",
              "</table>\n",
              "</div>"
            ],
            "text/plain": [
              "Churn           No   Yes   All\n",
              "tenure_group                  \n",
              "0 - 12        1138  1037  2175\n",
              "13 - 24        730   294  1024\n",
              "25 - 36        652   180   832\n",
              "37 - 48        617   145   762\n",
              "49 - 60        712   120   832\n",
              "61 - 72       1314    93  1407\n",
              "All           5163  1869  7032"
            ]
          },
          "metadata": {},
          "execution_count": 68
        }
      ]
    },
    {
      "cell_type": "code",
      "metadata": {
        "colab": {
          "base_uri": "https://localhost:8080/",
          "height": 437
        },
        "id": "7dJRb5BVjaZZ",
        "outputId": "b4dcd6df-0b36-4d07-97d7-3f826e446f7e"
      },
      "source": [
        "ax = plt.figure(figsize=(10,6))\n",
        "sns.lineplot(y=telco_data.TotalCharges[telco_data.Churn=='Yes'], x=telco_data.tenure[telco_data.Churn=='Yes'], data=telco_data, color='red')\n",
        "sns.lineplot(x=telco_data.tenure[telco_data.Churn==\"No\"], y=telco_data.TotalCharges[telco_data.Churn=='No'], data=telco_data, color='green')\n",
        "plt.text(60, 7000, \"Churners' Charges\", color='orangered')\n",
        "plt.text(60, 3000, \"Non-Churners Charges\", rotation = 40, color='grey')\n",
        "plt.title('Evolution of Total Charges based on\\n how long the customer has gone without churning', size=14)\n",
        "plt.xlabel('Tenure (number of months)', size=12)\n",
        "plt.ylabel('Total Charges', size=12)"
      ],
      "execution_count": null,
      "outputs": [
        {
          "output_type": "execute_result",
          "data": {
            "text/plain": [
              "Text(0, 0.5, 'Total Charges')"
            ]
          },
          "metadata": {},
          "execution_count": 69
        },
        {
          "output_type": "display_data",
          "data": {
            "image/png": "[encoded data removed]",
            "text/plain": [
              "<Figure size 720x432 with 1 Axes>"
            ]
          },
          "metadata": {}
        }
      ]
    }
  ]
}